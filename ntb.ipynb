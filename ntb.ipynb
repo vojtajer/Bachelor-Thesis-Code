{
 "cells": [
  {
   "cell_type": "markdown",
   "metadata": {
    "collapsed": true,
    "pycharm": {
     "is_executing": false
    }
   },
   "source": [
    "# BP simulation notebook"
   ]
  },
  {
   "cell_type": "code",
   "execution_count": 1,
   "metadata": {
    "pycharm": {
     "is_executing": true
    }
   },
   "outputs": [],
   "source": [
    "import datetime as dt\n",
    "from slot import *\n",
    "from car import *\n",
    "from crossvalidation import *\n",
    "from utils import *\n",
    "from simulation import *\n",
    "from main import *\n",
    "from optimize import *\n",
    "import pandas as pd\n",
    "import matplotlib.pyplot as plt\n",
    "import numpy as np\n",
    "import random\n",
    "import matplotlib.dates as mdates\n",
    "import glob"
   ]
  },
  {
   "cell_type": "markdown",
   "metadata": {},
   "source": [
    "## Charging station setup from Skoda Auto"
   ]
  },
  {
   "cell_type": "code",
   "execution_count": 2,
   "metadata": {
    "pycharm": {
     "is_executing": true
    }
   },
   "outputs": [
    {
     "name": "stdout",
     "output_type": "stream",
     "text": [
      "Total charging time: 219 days, 6:36:40, distributed electricity: 89464.38888888889 kWh, charged cars: 5255/11678 = 44.99914368898784%, name: Skoda\n"
     ]
    }
   ],
   "source": [
    "default_cpct = [14, 1, 2, 3, 1, 1, 6, 1, 2 ,3, 3, 1, 1, 2, 2, 40, 24, 27] #capacity\n",
    "#default_cpct = [i * 2 for i in default_cpct]\n",
    "traffic = load_traffic(\"input/3_traffic_export_may.csv\") #traffic exported from SQL database\n",
    "slots = create_slots(default_cpct)\n",
    "sim1 = Simulation(traffic, slots, \"Skoda\")\n",
    "sim1.simulate()\n"
   ]
  },
  {
   "cell_type": "code",
   "execution_count": 3,
   "metadata": {
    "pycharm": {
     "is_executing": true
    }
   },
   "outputs": [
    {
     "data": {
      "text/plain": [
       "134"
      ]
     },
     "execution_count": 3,
     "metadata": {},
     "output_type": "execute_result"
    }
   ],
   "source": [
    "sum(default_cpct)"
   ]
  },
  {
   "cell_type": "markdown",
   "metadata": {},
   "source": [
    "Below is history log of one of charging slots."
   ]
  },
  {
   "cell_type": "code",
   "execution_count": 4,
   "metadata": {
    "pycharm": {
     "is_executing": true
    }
   },
   "outputs": [
    {
     "data": {
      "text/html": [
       "<div>\n",
       "<style scoped>\n",
       "    .dataframe tbody tr th:only-of-type {\n",
       "        vertical-align: middle;\n",
       "    }\n",
       "\n",
       "    .dataframe tbody tr th {\n",
       "        vertical-align: top;\n",
       "    }\n",
       "\n",
       "    .dataframe thead th {\n",
       "        text-align: right;\n",
       "    }\n",
       "</style>\n",
       "<table border=\"1\" class=\"dataframe\">\n",
       "  <thead>\n",
       "    <tr style=\"text-align: right;\">\n",
       "      <th></th>\n",
       "      <th>car_id</th>\n",
       "      <th>park_id</th>\n",
       "      <th>arrival</th>\n",
       "      <th>departure</th>\n",
       "      <th>satisfied</th>\n",
       "    </tr>\n",
       "  </thead>\n",
       "  <tbody>\n",
       "    <tr>\n",
       "      <th>0</th>\n",
       "      <td>568202</td>\n",
       "      <td>1</td>\n",
       "      <td>2019-05-01 06:57:03</td>\n",
       "      <td>2019-05-01 15:21:50</td>\n",
       "      <td>True</td>\n",
       "    </tr>\n",
       "    <tr>\n",
       "      <th>1</th>\n",
       "      <td>577352</td>\n",
       "      <td>1</td>\n",
       "      <td>2019-05-01 19:57:32</td>\n",
       "      <td>2019-05-01 21:02:36</td>\n",
       "      <td>True</td>\n",
       "    </tr>\n",
       "    <tr>\n",
       "      <th>2</th>\n",
       "      <td>577352</td>\n",
       "      <td>1</td>\n",
       "      <td>2019-05-01 21:10:10</td>\n",
       "      <td>2019-05-01 22:45:19</td>\n",
       "      <td>True</td>\n",
       "    </tr>\n",
       "    <tr>\n",
       "      <th>3</th>\n",
       "      <td>550419</td>\n",
       "      <td>1</td>\n",
       "      <td>2019-05-02 00:10:56</td>\n",
       "      <td>2019-05-02 00:38:18</td>\n",
       "      <td>True</td>\n",
       "    </tr>\n",
       "    <tr>\n",
       "      <th>4</th>\n",
       "      <td>572142</td>\n",
       "      <td>1</td>\n",
       "      <td>2019-05-02 03:55:05</td>\n",
       "      <td>2019-05-02 06:38:36</td>\n",
       "      <td>True</td>\n",
       "    </tr>\n",
       "    <tr>\n",
       "      <th>5</th>\n",
       "      <td>559851</td>\n",
       "      <td>1</td>\n",
       "      <td>2019-05-02 04:09:11</td>\n",
       "      <td>2019-05-02 04:22:50</td>\n",
       "      <td>False</td>\n",
       "    </tr>\n",
       "    <tr>\n",
       "      <th>6</th>\n",
       "      <td>574588</td>\n",
       "      <td>1</td>\n",
       "      <td>2019-05-02 04:27:31</td>\n",
       "      <td>2019-05-02 06:15:30</td>\n",
       "      <td>False</td>\n",
       "    </tr>\n",
       "    <tr>\n",
       "      <th>7</th>\n",
       "      <td>591704</td>\n",
       "      <td>1</td>\n",
       "      <td>2019-05-02 05:12:27</td>\n",
       "      <td>2019-05-02 08:29:15</td>\n",
       "      <td>False</td>\n",
       "    </tr>\n",
       "    <tr>\n",
       "      <th>8</th>\n",
       "      <td>567725</td>\n",
       "      <td>1</td>\n",
       "      <td>2019-05-02 05:12:27</td>\n",
       "      <td>2019-05-02 08:29:15</td>\n",
       "      <td>False</td>\n",
       "    </tr>\n",
       "    <tr>\n",
       "      <th>9</th>\n",
       "      <td>580266</td>\n",
       "      <td>1</td>\n",
       "      <td>2019-05-02 06:17:30</td>\n",
       "      <td>2019-05-02 06:28:00</td>\n",
       "      <td>False</td>\n",
       "    </tr>\n",
       "  </tbody>\n",
       "</table>\n",
       "</div>"
      ],
      "text/plain": [
       "   car_id  park_id             arrival           departure  satisfied\n",
       "0  568202        1 2019-05-01 06:57:03 2019-05-01 15:21:50       True\n",
       "1  577352        1 2019-05-01 19:57:32 2019-05-01 21:02:36       True\n",
       "2  577352        1 2019-05-01 21:10:10 2019-05-01 22:45:19       True\n",
       "3  550419        1 2019-05-02 00:10:56 2019-05-02 00:38:18       True\n",
       "4  572142        1 2019-05-02 03:55:05 2019-05-02 06:38:36       True\n",
       "5  559851        1 2019-05-02 04:09:11 2019-05-02 04:22:50      False\n",
       "6  574588        1 2019-05-02 04:27:31 2019-05-02 06:15:30      False\n",
       "7  591704        1 2019-05-02 05:12:27 2019-05-02 08:29:15      False\n",
       "8  567725        1 2019-05-02 05:12:27 2019-05-02 08:29:15      False\n",
       "9  580266        1 2019-05-02 06:17:30 2019-05-02 06:28:00      False"
      ]
     },
     "execution_count": 4,
     "metadata": {},
     "output_type": "execute_result"
    }
   ],
   "source": [
    "s1 = sim1.slots[1]\n",
    "s1.log.head(10)\n"
   ]
  },
  {
   "cell_type": "code",
   "execution_count": 5,
   "metadata": {
    "pycharm": {
     "is_executing": true
    }
   },
   "outputs": [
    {
     "name": "stdout",
     "output_type": "stream",
     "text": [
      "89464.38888888889\n",
      "89464.38888888889\n"
     ]
    }
   ],
   "source": [
    "print((sim1.total_ch_time.seconds/3600 + sim1.total_ch_time.days*24) * 17 )\n",
    "print(sim1.total_kWh) "
   ]
  },
  {
   "cell_type": "code",
   "execution_count": 6,
   "metadata": {
    "pycharm": {
     "is_executing": true
    }
   },
   "outputs": [],
   "source": [
    "#Sum up results of simulation\n",
    "slots = sim1.slots\n",
    "id = []\n",
    "total = []\n",
    "satisfied = []\n",
    "for slot in slots:\n",
    "    id.append(slot.id)\n",
    "    tmp_log = slot.log\n",
    "    total.append(tmp_log['car_id'].count())\n",
    "    satisfied.append(tmp_log.loc[tmp_log['satisfied'] == True]['car_id'].count())\n"
   ]
  },
  {
   "cell_type": "code",
   "execution_count": 7,
   "metadata": {
    "pycharm": {
     "is_executing": true
    }
   },
   "outputs": [],
   "source": [
    "data = {'slot_id':id,\n",
    "        'satisfied':satisfied,\n",
    "        'total':total}\n",
    "\n",
    "usage = pd.DataFrame(data)\n",
    "usage['satisfied_perc'] = (usage['satisfied']/usage['total'])*100\n",
    "usage['total_perc'] = (usage['total']/sum(usage['total']))\n",
    "usage['weighted_setup'] = (sum(default_cpct)*usage['total_perc']).round()\n",
    "usage['total_perc'] = usage['total_perc']*100"
   ]
  },
  {
   "cell_type": "code",
   "execution_count": 8,
   "metadata": {
    "pycharm": {
     "is_executing": true
    }
   },
   "outputs": [
    {
     "data": {
      "text/html": [
       "<div>\n",
       "<style scoped>\n",
       "    .dataframe tbody tr th:only-of-type {\n",
       "        vertical-align: middle;\n",
       "    }\n",
       "\n",
       "    .dataframe tbody tr th {\n",
       "        vertical-align: top;\n",
       "    }\n",
       "\n",
       "    .dataframe thead th {\n",
       "        text-align: right;\n",
       "    }\n",
       "</style>\n",
       "<table border=\"1\" class=\"dataframe\">\n",
       "  <thead>\n",
       "    <tr style=\"text-align: right;\">\n",
       "      <th></th>\n",
       "      <th>slot_id</th>\n",
       "      <th>satisfied</th>\n",
       "      <th>total</th>\n",
       "      <th>satisfied_perc</th>\n",
       "      <th>total_perc</th>\n",
       "      <th>weighted_setup</th>\n",
       "    </tr>\n",
       "  </thead>\n",
       "  <tbody>\n",
       "    <tr>\n",
       "      <th>0</th>\n",
       "      <td>0</td>\n",
       "      <td>464</td>\n",
       "      <td>464</td>\n",
       "      <td>100.000000</td>\n",
       "      <td>3.973283</td>\n",
       "      <td>5.0</td>\n",
       "    </tr>\n",
       "    <tr>\n",
       "      <th>1</th>\n",
       "      <td>1</td>\n",
       "      <td>335</td>\n",
       "      <td>1328</td>\n",
       "      <td>25.225904</td>\n",
       "      <td>11.371810</td>\n",
       "      <td>15.0</td>\n",
       "    </tr>\n",
       "    <tr>\n",
       "      <th>2</th>\n",
       "      <td>2</td>\n",
       "      <td>249</td>\n",
       "      <td>897</td>\n",
       "      <td>27.759197</td>\n",
       "      <td>7.681110</td>\n",
       "      <td>10.0</td>\n",
       "    </tr>\n",
       "    <tr>\n",
       "      <th>3</th>\n",
       "      <td>3</td>\n",
       "      <td>282</td>\n",
       "      <td>336</td>\n",
       "      <td>83.928571</td>\n",
       "      <td>2.877205</td>\n",
       "      <td>4.0</td>\n",
       "    </tr>\n",
       "    <tr>\n",
       "      <th>4</th>\n",
       "      <td>4</td>\n",
       "      <td>177</td>\n",
       "      <td>839</td>\n",
       "      <td>21.096544</td>\n",
       "      <td>7.184449</td>\n",
       "      <td>10.0</td>\n",
       "    </tr>\n",
       "    <tr>\n",
       "      <th>5</th>\n",
       "      <td>5</td>\n",
       "      <td>340</td>\n",
       "      <td>1537</td>\n",
       "      <td>22.121015</td>\n",
       "      <td>13.161500</td>\n",
       "      <td>18.0</td>\n",
       "    </tr>\n",
       "    <tr>\n",
       "      <th>6</th>\n",
       "      <td>6</td>\n",
       "      <td>442</td>\n",
       "      <td>473</td>\n",
       "      <td>93.446089</td>\n",
       "      <td>4.050351</td>\n",
       "      <td>5.0</td>\n",
       "    </tr>\n",
       "    <tr>\n",
       "      <th>7</th>\n",
       "      <td>7</td>\n",
       "      <td>122</td>\n",
       "      <td>372</td>\n",
       "      <td>32.795699</td>\n",
       "      <td>3.185477</td>\n",
       "      <td>4.0</td>\n",
       "    </tr>\n",
       "    <tr>\n",
       "      <th>8</th>\n",
       "      <td>8</td>\n",
       "      <td>718</td>\n",
       "      <td>1906</td>\n",
       "      <td>37.670514</td>\n",
       "      <td>16.321288</td>\n",
       "      <td>22.0</td>\n",
       "    </tr>\n",
       "    <tr>\n",
       "      <th>9</th>\n",
       "      <td>9</td>\n",
       "      <td>652</td>\n",
       "      <td>819</td>\n",
       "      <td>79.609280</td>\n",
       "      <td>7.013187</td>\n",
       "      <td>9.0</td>\n",
       "    </tr>\n",
       "    <tr>\n",
       "      <th>10</th>\n",
       "      <td>10</td>\n",
       "      <td>96</td>\n",
       "      <td>97</td>\n",
       "      <td>98.969072</td>\n",
       "      <td>0.830622</td>\n",
       "      <td>1.0</td>\n",
       "    </tr>\n",
       "    <tr>\n",
       "      <th>11</th>\n",
       "      <td>11</td>\n",
       "      <td>121</td>\n",
       "      <td>467</td>\n",
       "      <td>25.910064</td>\n",
       "      <td>3.998972</td>\n",
       "      <td>5.0</td>\n",
       "    </tr>\n",
       "    <tr>\n",
       "      <th>12</th>\n",
       "      <td>12</td>\n",
       "      <td>258</td>\n",
       "      <td>1114</td>\n",
       "      <td>23.159785</td>\n",
       "      <td>9.539305</td>\n",
       "      <td>13.0</td>\n",
       "    </tr>\n",
       "    <tr>\n",
       "      <th>13</th>\n",
       "      <td>13</td>\n",
       "      <td>146</td>\n",
       "      <td>173</td>\n",
       "      <td>84.393064</td>\n",
       "      <td>1.481418</td>\n",
       "      <td>2.0</td>\n",
       "    </tr>\n",
       "    <tr>\n",
       "      <th>14</th>\n",
       "      <td>14</td>\n",
       "      <td>129</td>\n",
       "      <td>132</td>\n",
       "      <td>97.727273</td>\n",
       "      <td>1.130331</td>\n",
       "      <td>2.0</td>\n",
       "    </tr>\n",
       "    <tr>\n",
       "      <th>15</th>\n",
       "      <td>15</td>\n",
       "      <td>246</td>\n",
       "      <td>246</td>\n",
       "      <td>100.000000</td>\n",
       "      <td>2.106525</td>\n",
       "      <td>3.0</td>\n",
       "    </tr>\n",
       "    <tr>\n",
       "      <th>16</th>\n",
       "      <td>16</td>\n",
       "      <td>274</td>\n",
       "      <td>274</td>\n",
       "      <td>100.000000</td>\n",
       "      <td>2.346292</td>\n",
       "      <td>3.0</td>\n",
       "    </tr>\n",
       "    <tr>\n",
       "      <th>17</th>\n",
       "      <td>17</td>\n",
       "      <td>204</td>\n",
       "      <td>204</td>\n",
       "      <td>100.000000</td>\n",
       "      <td>1.746874</td>\n",
       "      <td>2.0</td>\n",
       "    </tr>\n",
       "  </tbody>\n",
       "</table>\n",
       "</div>"
      ],
      "text/plain": [
       "    slot_id  satisfied  total  satisfied_perc  total_perc  weighted_setup\n",
       "0         0        464    464      100.000000    3.973283             5.0\n",
       "1         1        335   1328       25.225904   11.371810            15.0\n",
       "2         2        249    897       27.759197    7.681110            10.0\n",
       "3         3        282    336       83.928571    2.877205             4.0\n",
       "4         4        177    839       21.096544    7.184449            10.0\n",
       "5         5        340   1537       22.121015   13.161500            18.0\n",
       "6         6        442    473       93.446089    4.050351             5.0\n",
       "7         7        122    372       32.795699    3.185477             4.0\n",
       "8         8        718   1906       37.670514   16.321288            22.0\n",
       "9         9        652    819       79.609280    7.013187             9.0\n",
       "10       10         96     97       98.969072    0.830622             1.0\n",
       "11       11        121    467       25.910064    3.998972             5.0\n",
       "12       12        258   1114       23.159785    9.539305            13.0\n",
       "13       13        146    173       84.393064    1.481418             2.0\n",
       "14       14        129    132       97.727273    1.130331             2.0\n",
       "15       15        246    246      100.000000    2.106525             3.0\n",
       "16       16        274    274      100.000000    2.346292             3.0\n",
       "17       17        204    204      100.000000    1.746874             2.0"
      ]
     },
     "execution_count": 8,
     "metadata": {},
     "output_type": "execute_result"
    }
   ],
   "source": [
    "#Exporting weighted setup for second simulation\n",
    "weighted_setup = usage['weighted_setup'].astype(int).to_list()\n",
    "usage.head(18)"
   ]
  },
  {
   "cell_type": "code",
   "execution_count": 9,
   "metadata": {
    "pycharm": {
     "is_executing": true
    }
   },
   "outputs": [
    {
     "data": {
      "text/plain": [
       "133"
      ]
     },
     "execution_count": 9,
     "metadata": {},
     "output_type": "execute_result"
    }
   ],
   "source": [
    "usage['satisfied_perc'].mean()\n",
    "sum(weighted_setup)"
   ]
  },
  {
   "cell_type": "markdown",
   "metadata": {},
   "source": [
    "## Simulation with charging stations distributed based on weights"
   ]
  },
  {
   "cell_type": "code",
   "execution_count": 10,
   "metadata": {
    "pycharm": {
     "is_executing": true
    }
   },
   "outputs": [
    {
     "name": "stdout",
     "output_type": "stream",
     "text": [
      "Total charging time: 415 days, 7:03:20, distributed electricity: 169439.9444444445 kWh, charged cars: 10949/11678 = 93.7574927213564%, name: weighted\n"
     ]
    }
   ],
   "source": [
    "slots2 = create_slots(weighted_setup)\n",
    "sim2 = Simulation(traffic, slots2, \"weighted\")\n",
    "sim2.simulate()"
   ]
  },
  {
   "cell_type": "code",
   "execution_count": 11,
   "metadata": {
    "pycharm": {
     "is_executing": true
    }
   },
   "outputs": [],
   "source": [
    "slots2 = sim2.slots\n",
    "id2 = []\n",
    "total2 = []\n",
    "satisfied2 = []\n",
    "for slot in slots2:\n",
    "    id2.append(slot.id)\n",
    "    tmp_log = slot.log\n",
    "    total2.append(tmp_log['car_id'].count())\n",
    "    satisfied2.append(tmp_log.loc[tmp_log['satisfied'] == True]['car_id'].count())"
   ]
  },
  {
   "cell_type": "code",
   "execution_count": 12,
   "metadata": {
    "pycharm": {
     "is_executing": true
    }
   },
   "outputs": [],
   "source": [
    "data2 = {'slot_id':id,\n",
    "        'satisfied':satisfied2,\n",
    "        'total':total2}\n",
    "\n",
    "usage2 = pd.DataFrame(data2)\n",
    "usage2['satisfied_perc'] = (usage2['satisfied']/usage2['total'])*100\n",
    "usage2['total_perc'] = (usage2['total']/sum(usage2['total']))\n",
    "usage2['weighted_setup'] = (sum(weighted_setup)*usage2['total_perc']).round()\n",
    "usage2['total_perc'] = usage2['total_perc']*100"
   ]
  },
  {
   "cell_type": "code",
   "execution_count": 13,
   "metadata": {
    "pycharm": {
     "is_executing": true
    }
   },
   "outputs": [
    {
     "data": {
      "text/html": [
       "<div>\n",
       "<style scoped>\n",
       "    .dataframe tbody tr th:only-of-type {\n",
       "        vertical-align: middle;\n",
       "    }\n",
       "\n",
       "    .dataframe tbody tr th {\n",
       "        vertical-align: top;\n",
       "    }\n",
       "\n",
       "    .dataframe thead th {\n",
       "        text-align: right;\n",
       "    }\n",
       "</style>\n",
       "<table border=\"1\" class=\"dataframe\">\n",
       "  <thead>\n",
       "    <tr style=\"text-align: right;\">\n",
       "      <th></th>\n",
       "      <th>slot_id</th>\n",
       "      <th>satisfied</th>\n",
       "      <th>total</th>\n",
       "      <th>satisfied_perc</th>\n",
       "      <th>total_perc</th>\n",
       "      <th>weighted_setup</th>\n",
       "    </tr>\n",
       "  </thead>\n",
       "  <tbody>\n",
       "    <tr>\n",
       "      <th>0</th>\n",
       "      <td>0</td>\n",
       "      <td>376</td>\n",
       "      <td>464</td>\n",
       "      <td>81.034483</td>\n",
       "      <td>3.973283</td>\n",
       "      <td>5.0</td>\n",
       "    </tr>\n",
       "    <tr>\n",
       "      <th>1</th>\n",
       "      <td>1</td>\n",
       "      <td>1325</td>\n",
       "      <td>1328</td>\n",
       "      <td>99.774096</td>\n",
       "      <td>11.371810</td>\n",
       "      <td>15.0</td>\n",
       "    </tr>\n",
       "    <tr>\n",
       "      <th>2</th>\n",
       "      <td>2</td>\n",
       "      <td>829</td>\n",
       "      <td>897</td>\n",
       "      <td>92.419175</td>\n",
       "      <td>7.681110</td>\n",
       "      <td>10.0</td>\n",
       "    </tr>\n",
       "    <tr>\n",
       "      <th>3</th>\n",
       "      <td>3</td>\n",
       "      <td>313</td>\n",
       "      <td>336</td>\n",
       "      <td>93.154762</td>\n",
       "      <td>2.877205</td>\n",
       "      <td>4.0</td>\n",
       "    </tr>\n",
       "    <tr>\n",
       "      <th>4</th>\n",
       "      <td>4</td>\n",
       "      <td>803</td>\n",
       "      <td>839</td>\n",
       "      <td>95.709178</td>\n",
       "      <td>7.184449</td>\n",
       "      <td>10.0</td>\n",
       "    </tr>\n",
       "    <tr>\n",
       "      <th>5</th>\n",
       "      <td>5</td>\n",
       "      <td>1537</td>\n",
       "      <td>1537</td>\n",
       "      <td>100.000000</td>\n",
       "      <td>13.161500</td>\n",
       "      <td>18.0</td>\n",
       "    </tr>\n",
       "    <tr>\n",
       "      <th>6</th>\n",
       "      <td>6</td>\n",
       "      <td>414</td>\n",
       "      <td>473</td>\n",
       "      <td>87.526427</td>\n",
       "      <td>4.050351</td>\n",
       "      <td>5.0</td>\n",
       "    </tr>\n",
       "    <tr>\n",
       "      <th>7</th>\n",
       "      <td>7</td>\n",
       "      <td>307</td>\n",
       "      <td>372</td>\n",
       "      <td>82.526882</td>\n",
       "      <td>3.185477</td>\n",
       "      <td>4.0</td>\n",
       "    </tr>\n",
       "    <tr>\n",
       "      <th>8</th>\n",
       "      <td>8</td>\n",
       "      <td>1905</td>\n",
       "      <td>1906</td>\n",
       "      <td>99.947534</td>\n",
       "      <td>16.321288</td>\n",
       "      <td>22.0</td>\n",
       "    </tr>\n",
       "    <tr>\n",
       "      <th>9</th>\n",
       "      <td>9</td>\n",
       "      <td>816</td>\n",
       "      <td>819</td>\n",
       "      <td>99.633700</td>\n",
       "      <td>7.013187</td>\n",
       "      <td>9.0</td>\n",
       "    </tr>\n",
       "    <tr>\n",
       "      <th>10</th>\n",
       "      <td>10</td>\n",
       "      <td>63</td>\n",
       "      <td>97</td>\n",
       "      <td>64.948454</td>\n",
       "      <td>0.830622</td>\n",
       "      <td>1.0</td>\n",
       "    </tr>\n",
       "    <tr>\n",
       "      <th>11</th>\n",
       "      <td>11</td>\n",
       "      <td>406</td>\n",
       "      <td>467</td>\n",
       "      <td>86.937901</td>\n",
       "      <td>3.998972</td>\n",
       "      <td>5.0</td>\n",
       "    </tr>\n",
       "    <tr>\n",
       "      <th>12</th>\n",
       "      <td>12</td>\n",
       "      <td>1109</td>\n",
       "      <td>1114</td>\n",
       "      <td>99.551167</td>\n",
       "      <td>9.539305</td>\n",
       "      <td>13.0</td>\n",
       "    </tr>\n",
       "    <tr>\n",
       "      <th>13</th>\n",
       "      <td>13</td>\n",
       "      <td>146</td>\n",
       "      <td>173</td>\n",
       "      <td>84.393064</td>\n",
       "      <td>1.481418</td>\n",
       "      <td>2.0</td>\n",
       "    </tr>\n",
       "    <tr>\n",
       "      <th>14</th>\n",
       "      <td>14</td>\n",
       "      <td>129</td>\n",
       "      <td>132</td>\n",
       "      <td>97.727273</td>\n",
       "      <td>1.130331</td>\n",
       "      <td>2.0</td>\n",
       "    </tr>\n",
       "    <tr>\n",
       "      <th>15</th>\n",
       "      <td>15</td>\n",
       "      <td>182</td>\n",
       "      <td>246</td>\n",
       "      <td>73.983740</td>\n",
       "      <td>2.106525</td>\n",
       "      <td>3.0</td>\n",
       "    </tr>\n",
       "    <tr>\n",
       "      <th>16</th>\n",
       "      <td>16</td>\n",
       "      <td>148</td>\n",
       "      <td>274</td>\n",
       "      <td>54.014599</td>\n",
       "      <td>2.346292</td>\n",
       "      <td>3.0</td>\n",
       "    </tr>\n",
       "    <tr>\n",
       "      <th>17</th>\n",
       "      <td>17</td>\n",
       "      <td>141</td>\n",
       "      <td>204</td>\n",
       "      <td>69.117647</td>\n",
       "      <td>1.746874</td>\n",
       "      <td>2.0</td>\n",
       "    </tr>\n",
       "  </tbody>\n",
       "</table>\n",
       "</div>"
      ],
      "text/plain": [
       "    slot_id  satisfied  total  satisfied_perc  total_perc  weighted_setup\n",
       "0         0        376    464       81.034483    3.973283             5.0\n",
       "1         1       1325   1328       99.774096   11.371810            15.0\n",
       "2         2        829    897       92.419175    7.681110            10.0\n",
       "3         3        313    336       93.154762    2.877205             4.0\n",
       "4         4        803    839       95.709178    7.184449            10.0\n",
       "5         5       1537   1537      100.000000   13.161500            18.0\n",
       "6         6        414    473       87.526427    4.050351             5.0\n",
       "7         7        307    372       82.526882    3.185477             4.0\n",
       "8         8       1905   1906       99.947534   16.321288            22.0\n",
       "9         9        816    819       99.633700    7.013187             9.0\n",
       "10       10         63     97       64.948454    0.830622             1.0\n",
       "11       11        406    467       86.937901    3.998972             5.0\n",
       "12       12       1109   1114       99.551167    9.539305            13.0\n",
       "13       13        146    173       84.393064    1.481418             2.0\n",
       "14       14        129    132       97.727273    1.130331             2.0\n",
       "15       15        182    246       73.983740    2.106525             3.0\n",
       "16       16        148    274       54.014599    2.346292             3.0\n",
       "17       17        141    204       69.117647    1.746874             2.0"
      ]
     },
     "execution_count": 13,
     "metadata": {},
     "output_type": "execute_result"
    }
   ],
   "source": [
    "usage2.head(18)\n"
   ]
  },
  {
   "cell_type": "code",
   "execution_count": 14,
   "metadata": {
    "pycharm": {
     "is_executing": true
    }
   },
   "outputs": [
    {
     "data": {
      "text/plain": [
       "86.80000444488678"
      ]
     },
     "execution_count": 14,
     "metadata": {},
     "output_type": "execute_result"
    }
   ],
   "source": [
    "usage2['satisfied_perc'].mean()"
   ]
  },
  {
   "cell_type": "markdown",
   "metadata": {},
   "source": [
    "## Simulation with equally distributed charging stations"
   ]
  },
  {
   "cell_type": "code",
   "execution_count": 15,
   "metadata": {
    "pycharm": {
     "is_executing": true
    }
   },
   "outputs": [
    {
     "name": "stdout",
     "output_type": "stream",
     "text": [
      "Total charging time: 410 days, 15:39:40, distributed electricity: 167546.23888888885 kWh, charged cars: 10487/11678 = 89.80133584517897%, name: equal\n"
     ]
    }
   ],
   "source": [
    "equal_setup = [8, 8, 8, 8, 8, 8, 8, 8, 7, 7, 7, 7, 7, 7, 7, 7, 7, 7]\n",
    "#equal_setup = [i * 2 for i in equal_setup]\n",
    "\n",
    "slots3 = create_slots(equal_setup)\n",
    "sim3 = Simulation(traffic, slots3, \"equal\")\n",
    "sim3.simulate()"
   ]
  },
  {
   "cell_type": "code",
   "execution_count": 16,
   "metadata": {
    "pycharm": {
     "is_executing": true
    }
   },
   "outputs": [],
   "source": [
    "slots3 = sim3.slots\n",
    "total3 = []\n",
    "id3 = []\n",
    "satisfied3 = []\n",
    "for slot in slots3:\n",
    "    id3.append(slot.id)\n",
    "    tmp_log = slot.log\n",
    "    total3.append(tmp_log['car_id'].count())\n",
    "    satisfied3.append(tmp_log.loc[tmp_log['satisfied'] == True]['car_id'].count())"
   ]
  },
  {
   "cell_type": "code",
   "execution_count": 17,
   "metadata": {
    "pycharm": {
     "is_executing": true
    }
   },
   "outputs": [],
   "source": [
    "data3 = {'slot_id':id3,\n",
    "        'satisfied':satisfied3,\n",
    "        'total':total3}\n",
    "\n",
    "usage3 = pd.DataFrame(data3)\n",
    "usage3['satisfied_perc'] = (usage3['satisfied']/usage3['total'])*100\n",
    "usage3['total_perc'] = (usage3['total']/sum(usage3['total']))\n",
    "usage3['weighted_setup'] = (sum(equal_setup)*usage3['total_perc']).round()\n",
    "usage3['total_perc'] = usage3['total_perc']*100"
   ]
  },
  {
   "cell_type": "code",
   "execution_count": 18,
   "metadata": {
    "pycharm": {
     "is_executing": true
    }
   },
   "outputs": [
    {
     "data": {
      "text/html": [
       "<div>\n",
       "<style scoped>\n",
       "    .dataframe tbody tr th:only-of-type {\n",
       "        vertical-align: middle;\n",
       "    }\n",
       "\n",
       "    .dataframe tbody tr th {\n",
       "        vertical-align: top;\n",
       "    }\n",
       "\n",
       "    .dataframe thead th {\n",
       "        text-align: right;\n",
       "    }\n",
       "</style>\n",
       "<table border=\"1\" class=\"dataframe\">\n",
       "  <thead>\n",
       "    <tr style=\"text-align: right;\">\n",
       "      <th></th>\n",
       "      <th>slot_id</th>\n",
       "      <th>satisfied</th>\n",
       "      <th>total</th>\n",
       "      <th>satisfied_perc</th>\n",
       "      <th>total_perc</th>\n",
       "      <th>weighted_setup</th>\n",
       "    </tr>\n",
       "  </thead>\n",
       "  <tbody>\n",
       "    <tr>\n",
       "      <th>0</th>\n",
       "      <td>0</td>\n",
       "      <td>436</td>\n",
       "      <td>464</td>\n",
       "      <td>93.965517</td>\n",
       "      <td>3.973283</td>\n",
       "      <td>5.0</td>\n",
       "    </tr>\n",
       "    <tr>\n",
       "      <th>1</th>\n",
       "      <td>1</td>\n",
       "      <td>1213</td>\n",
       "      <td>1328</td>\n",
       "      <td>91.340361</td>\n",
       "      <td>11.371810</td>\n",
       "      <td>15.0</td>\n",
       "    </tr>\n",
       "    <tr>\n",
       "      <th>2</th>\n",
       "      <td>2</td>\n",
       "      <td>741</td>\n",
       "      <td>897</td>\n",
       "      <td>82.608696</td>\n",
       "      <td>7.681110</td>\n",
       "      <td>10.0</td>\n",
       "    </tr>\n",
       "    <tr>\n",
       "      <th>3</th>\n",
       "      <td>3</td>\n",
       "      <td>336</td>\n",
       "      <td>336</td>\n",
       "      <td>100.000000</td>\n",
       "      <td>2.877205</td>\n",
       "      <td>4.0</td>\n",
       "    </tr>\n",
       "    <tr>\n",
       "      <th>4</th>\n",
       "      <td>4</td>\n",
       "      <td>757</td>\n",
       "      <td>839</td>\n",
       "      <td>90.226460</td>\n",
       "      <td>7.184449</td>\n",
       "      <td>10.0</td>\n",
       "    </tr>\n",
       "    <tr>\n",
       "      <th>5</th>\n",
       "      <td>5</td>\n",
       "      <td>1344</td>\n",
       "      <td>1537</td>\n",
       "      <td>87.443071</td>\n",
       "      <td>13.161500</td>\n",
       "      <td>18.0</td>\n",
       "    </tr>\n",
       "    <tr>\n",
       "      <th>6</th>\n",
       "      <td>6</td>\n",
       "      <td>471</td>\n",
       "      <td>473</td>\n",
       "      <td>99.577167</td>\n",
       "      <td>4.050351</td>\n",
       "      <td>5.0</td>\n",
       "    </tr>\n",
       "    <tr>\n",
       "      <th>7</th>\n",
       "      <td>7</td>\n",
       "      <td>370</td>\n",
       "      <td>372</td>\n",
       "      <td>99.462366</td>\n",
       "      <td>3.185477</td>\n",
       "      <td>4.0</td>\n",
       "    </tr>\n",
       "    <tr>\n",
       "      <th>8</th>\n",
       "      <td>8</td>\n",
       "      <td>1478</td>\n",
       "      <td>1906</td>\n",
       "      <td>77.544596</td>\n",
       "      <td>16.321288</td>\n",
       "      <td>22.0</td>\n",
       "    </tr>\n",
       "    <tr>\n",
       "      <th>9</th>\n",
       "      <td>9</td>\n",
       "      <td>808</td>\n",
       "      <td>819</td>\n",
       "      <td>98.656899</td>\n",
       "      <td>7.013187</td>\n",
       "      <td>9.0</td>\n",
       "    </tr>\n",
       "    <tr>\n",
       "      <th>10</th>\n",
       "      <td>10</td>\n",
       "      <td>97</td>\n",
       "      <td>97</td>\n",
       "      <td>100.000000</td>\n",
       "      <td>0.830622</td>\n",
       "      <td>1.0</td>\n",
       "    </tr>\n",
       "    <tr>\n",
       "      <th>11</th>\n",
       "      <td>11</td>\n",
       "      <td>454</td>\n",
       "      <td>467</td>\n",
       "      <td>97.216274</td>\n",
       "      <td>3.998972</td>\n",
       "      <td>5.0</td>\n",
       "    </tr>\n",
       "    <tr>\n",
       "      <th>12</th>\n",
       "      <td>12</td>\n",
       "      <td>966</td>\n",
       "      <td>1114</td>\n",
       "      <td>86.714542</td>\n",
       "      <td>9.539305</td>\n",
       "      <td>13.0</td>\n",
       "    </tr>\n",
       "    <tr>\n",
       "      <th>13</th>\n",
       "      <td>13</td>\n",
       "      <td>173</td>\n",
       "      <td>173</td>\n",
       "      <td>100.000000</td>\n",
       "      <td>1.481418</td>\n",
       "      <td>2.0</td>\n",
       "    </tr>\n",
       "    <tr>\n",
       "      <th>14</th>\n",
       "      <td>14</td>\n",
       "      <td>132</td>\n",
       "      <td>132</td>\n",
       "      <td>100.000000</td>\n",
       "      <td>1.130331</td>\n",
       "      <td>2.0</td>\n",
       "    </tr>\n",
       "    <tr>\n",
       "      <th>15</th>\n",
       "      <td>15</td>\n",
       "      <td>246</td>\n",
       "      <td>246</td>\n",
       "      <td>100.000000</td>\n",
       "      <td>2.106525</td>\n",
       "      <td>3.0</td>\n",
       "    </tr>\n",
       "    <tr>\n",
       "      <th>16</th>\n",
       "      <td>16</td>\n",
       "      <td>261</td>\n",
       "      <td>274</td>\n",
       "      <td>95.255474</td>\n",
       "      <td>2.346292</td>\n",
       "      <td>3.0</td>\n",
       "    </tr>\n",
       "    <tr>\n",
       "      <th>17</th>\n",
       "      <td>17</td>\n",
       "      <td>204</td>\n",
       "      <td>204</td>\n",
       "      <td>100.000000</td>\n",
       "      <td>1.746874</td>\n",
       "      <td>2.0</td>\n",
       "    </tr>\n",
       "  </tbody>\n",
       "</table>\n",
       "</div>"
      ],
      "text/plain": [
       "    slot_id  satisfied  total  satisfied_perc  total_perc  weighted_setup\n",
       "0         0        436    464       93.965517    3.973283             5.0\n",
       "1         1       1213   1328       91.340361   11.371810            15.0\n",
       "2         2        741    897       82.608696    7.681110            10.0\n",
       "3         3        336    336      100.000000    2.877205             4.0\n",
       "4         4        757    839       90.226460    7.184449            10.0\n",
       "5         5       1344   1537       87.443071   13.161500            18.0\n",
       "6         6        471    473       99.577167    4.050351             5.0\n",
       "7         7        370    372       99.462366    3.185477             4.0\n",
       "8         8       1478   1906       77.544596   16.321288            22.0\n",
       "9         9        808    819       98.656899    7.013187             9.0\n",
       "10       10         97     97      100.000000    0.830622             1.0\n",
       "11       11        454    467       97.216274    3.998972             5.0\n",
       "12       12        966   1114       86.714542    9.539305            13.0\n",
       "13       13        173    173      100.000000    1.481418             2.0\n",
       "14       14        132    132      100.000000    1.130331             2.0\n",
       "15       15        246    246      100.000000    2.106525             3.0\n",
       "16       16        261    274       95.255474    2.346292             3.0\n",
       "17       17        204    204      100.000000    1.746874             2.0"
      ]
     },
     "execution_count": 18,
     "metadata": {},
     "output_type": "execute_result"
    }
   ],
   "source": [
    "usage3.head(18)"
   ]
  },
  {
   "cell_type": "code",
   "execution_count": 19,
   "metadata": {
    "pycharm": {
     "is_executing": true
    }
   },
   "outputs": [
    {
     "data": {
      "text/plain": [
       "94.44507907449629"
      ]
     },
     "execution_count": 19,
     "metadata": {},
     "output_type": "execute_result"
    }
   ],
   "source": [
    "usage3['satisfied_perc'].mean()"
   ]
  },
  {
   "cell_type": "markdown",
   "metadata": {},
   "source": [
    "## Results"
   ]
  },
  {
   "cell_type": "code",
   "execution_count": 20,
   "metadata": {
    "pycharm": {
     "is_executing": true
    }
   },
   "outputs": [],
   "source": [
    "sims = [sim1, sim2, sim3]\n",
    "names = []\n",
    "ch_cars = []\n",
    "total_cars = []\n",
    "total_ch_time = []\n",
    "total_kw = []\n",
    "for sim in sims:\n",
    "    names.append(sim.name)\n",
    "    ch_cars.append(sim.charged_cars)\n",
    "    total_ch_time.append(sim.total_ch_time)\n",
    "    total_kw.append(sim.total_kWh)\n",
    "    total_cars.append(sim.total_cars)\n",
    "    \n",
    "    "
   ]
  },
  {
   "cell_type": "code",
   "execution_count": 21,
   "metadata": {
    "pycharm": {
     "is_executing": true
    }
   },
   "outputs": [
    {
     "data": {
      "text/html": [
       "<div>\n",
       "<style scoped>\n",
       "    .dataframe tbody tr th:only-of-type {\n",
       "        vertical-align: middle;\n",
       "    }\n",
       "\n",
       "    .dataframe tbody tr th {\n",
       "        vertical-align: top;\n",
       "    }\n",
       "\n",
       "    .dataframe thead th {\n",
       "        text-align: right;\n",
       "    }\n",
       "</style>\n",
       "<table border=\"1\" class=\"dataframe\">\n",
       "  <thead>\n",
       "    <tr style=\"text-align: right;\">\n",
       "      <th></th>\n",
       "      <th>name</th>\n",
       "      <th>ch_cars</th>\n",
       "      <th>total_cars</th>\n",
       "      <th>total_ch_time</th>\n",
       "      <th>total_energy_output</th>\n",
       "      <th>succes_rate</th>\n",
       "      <th>avg_slot_succes</th>\n",
       "    </tr>\n",
       "  </thead>\n",
       "  <tbody>\n",
       "    <tr>\n",
       "      <th>0</th>\n",
       "      <td>Skoda</td>\n",
       "      <td>5255</td>\n",
       "      <td>11678</td>\n",
       "      <td>219 days 06:36:40</td>\n",
       "      <td>89464.388889</td>\n",
       "      <td>44.999144</td>\n",
       "      <td>64.100671</td>\n",
       "    </tr>\n",
       "    <tr>\n",
       "      <th>1</th>\n",
       "      <td>weighted</td>\n",
       "      <td>10949</td>\n",
       "      <td>11678</td>\n",
       "      <td>415 days 07:03:20</td>\n",
       "      <td>169439.944444</td>\n",
       "      <td>93.757493</td>\n",
       "      <td>86.800004</td>\n",
       "    </tr>\n",
       "    <tr>\n",
       "      <th>2</th>\n",
       "      <td>equal</td>\n",
       "      <td>10487</td>\n",
       "      <td>11678</td>\n",
       "      <td>410 days 15:39:40</td>\n",
       "      <td>167546.238889</td>\n",
       "      <td>89.801336</td>\n",
       "      <td>94.445079</td>\n",
       "    </tr>\n",
       "  </tbody>\n",
       "</table>\n",
       "</div>"
      ],
      "text/plain": [
       "       name  ch_cars  total_cars     total_ch_time  total_energy_output  \\\n",
       "0     Skoda     5255       11678 219 days 06:36:40         89464.388889   \n",
       "1  weighted    10949       11678 415 days 07:03:20        169439.944444   \n",
       "2     equal    10487       11678 410 days 15:39:40        167546.238889   \n",
       "\n",
       "   succes_rate  avg_slot_succes  \n",
       "0    44.999144        64.100671  \n",
       "1    93.757493        86.800004  \n",
       "2    89.801336        94.445079  "
      ]
     },
     "execution_count": 21,
     "metadata": {},
     "output_type": "execute_result"
    }
   ],
   "source": [
    "res = {'name': names,\n",
    "        'ch_cars': ch_cars,\n",
    "        'total_cars': total_cars,\n",
    "        'total_ch_time': total_ch_time,\n",
    "        'total_energy_output': total_kw}\n",
    "results = pd.DataFrame(res)\n",
    "results['succes_rate'] = (results['ch_cars']/results['total_cars'])*100\n",
    "results['avg_slot_succes'] = [usage['satisfied_perc'].mean(), usage2['satisfied_perc'].mean(), usage3['satisfied_perc'].mean()]\n",
    "results.head()"
   ]
  },
  {
   "cell_type": "markdown",
   "metadata": {},
   "source": [
    "## Visualization"
   ]
  },
  {
   "cell_type": "code",
   "execution_count": 22,
   "metadata": {
    "pycharm": {
     "is_executing": true
    }
   },
   "outputs": [],
   "source": [
    "#Insert simulation you want to visualize\n",
    "sim = sim1 #sim1, sim2, sim3\n",
    "\n",
    "#Insert ID of slot you want to visualize\n",
    "slot_id = 3 #0,..,17"
   ]
  },
  {
   "cell_type": "code",
   "execution_count": 23,
   "metadata": {
    "pycharm": {
     "is_executing": true
    }
   },
   "outputs": [],
   "source": [
    "#not being used, just example\n",
    "\n",
    "tmp = sim.slots[slot_id].log\n",
    "tmp['start'] = tmp['arrival'].dt.time\n",
    "tmp['end'] = tmp['departure'].dt.time\n",
    "tmp = tmp.loc[tmp['arrival'].dt.date == tmp['departure'].dt.date]\n",
    "tmp_ch = tmp.loc[tmp['satisfied'] == True]\n",
    "tmp_ch = tmp_ch.drop(columns=['arrival', 'departure','satisfied'])\n",
    "tmp = tmp.drop(columns=['arrival', 'departure','satisfied'])\n",
    "tmp.sort_values(['start', 'end'])\n",
    "start = pd.DataFrame({'time': tmp['start'], 'status': True})\n",
    "end = pd.DataFrame({'time': tmp['end'], 'status': False})    \n",
    "frame = start.append(end)\n",
    "frame = frame.sort_values('time')\n",
    "queue = frame.values.tolist()"
   ]
  },
  {
   "cell_type": "markdown",
   "metadata": {},
   "source": [
    "### 24-hour traffic"
   ]
  },
  {
   "cell_type": "code",
   "execution_count": 24,
   "metadata": {
    "pycharm": {
     "is_executing": true
    }
   },
   "outputs": [],
   "source": [
    "#Demand traffic\n",
    "slt = sim.slots[slot_id]\n",
    "#sim.slots[slot_id] = slt[(slt['arrival'] > '2019-05-01 07:30:00') & (slt['dt'] < '2019-05-08 09:00:00')]\n",
    "times, ctrs, times_ch, ctrs_ch = visualize_prep(sim, slot_id, False) #demand timestamp, demand counter, satisfied timestamps, satisfied counter\n",
    "\n",
    "#ctrs_ch = ctrs_ch/20 #should count as average over whole month?"
   ]
  },
  {
   "cell_type": "code",
   "execution_count": 25,
   "metadata": {
    "pycharm": {
     "is_executing": true
    }
   },
   "outputs": [],
   "source": [
    "#For better visualization, because number of cars are not continous\n",
    "new_times = []\n",
    "new_ctrs = []\n",
    "for i in range(len(times)):\n",
    "    var1 = times[i]\n",
    "    if (i+1) == len(times):\n",
    "        var2 = var1\n",
    "    else:\n",
    "        var2 = times[i+1]\n",
    "    new_times.append(var1.timestamp())\n",
    "    new_times.append(var2.timestamp())\n",
    "    new_times.append(np.nan)\n",
    "    new_ctrs.append(ctrs[i])\n",
    "    new_ctrs.append(ctrs[i])\n",
    "    new_ctrs.append(np.nan)"
   ]
  },
  {
   "cell_type": "code",
   "execution_count": 26,
   "metadata": {
    "pycharm": {
     "is_executing": true
    }
   },
   "outputs": [
    {
     "data": {
      "image/png": "[encoded data removed]",
      "text/plain": [
       "<Figure size 432x288 with 1 Axes>"
      ]
     },
     "metadata": {
      "needs_background": "light"
     },
     "output_type": "display_data"
    }
   ],
   "source": [
    "succes_rate = round((sim.slots[slot_id].vehicle_ctr/sim.slots[slot_id].total)*100, 2)\n",
    "fig, ax = plt.subplots()\n",
    "ax.xaxis_date()\n",
    "myFmt = mdates.DateFormatter('%H:%M')\n",
    "ax.xaxis.set_major_formatter(myFmt)\n",
    "plt.title(\"Visual. of traffic at slot \" + str(slot_id) + \":sim-\" + sim.name + \" during month with succs rate: \" + str(succes_rate)+ \"%\")\n",
    "plt.ylabel(\"Number of cars\")\n",
    "plt.xlabel(\"Time\")\n",
    "\n",
    "#plt.plot(new_times,new_ctrs, color='xkcd:blue', label='Demand')\n",
    "plt.plot(times_ch, ctrs_ch, color='xkcd:red', label='Satisfied')\n",
    "\n",
    "#plt.axhline(sim.slots[slot_id].capacity, color = 'xkcd:green', linestyle='dashed', label='Capacity')\n",
    "\n",
    "plt.axhline(0, color = 'xkcd:black', linestyle='dotted')\n",
    "plt.gcf().autofmt_xdate()\n",
    "plt.legend()\n",
    "plt.savefig('sim_' + sim.name + '_slot_' + str(slot_id) + '.png', dpi = 300)\n",
    "plt.show()"
   ]
  },
  {
   "cell_type": "markdown",
   "metadata": {},
   "source": [
    "#### Single simulation at selected spot"
   ]
  },
  {
   "cell_type": "code",
   "execution_count": 27,
   "metadata": {
    "pycharm": {
     "is_executing": true
    }
   },
   "outputs": [
    {
     "data": {
      "image/png": "[encoded data removed]",
      "text/plain": [
       "<Figure size 432x288 with 1 Axes>"
      ]
     },
     "metadata": {
      "needs_background": "light"
     },
     "output_type": "display_data"
    }
   ],
   "source": [
    "succes_rate = round((sim.slots[slot_id].vehicle_ctr/sim.slots[slot_id].total)*100, 2)\n",
    "fig, ax = plt.subplots()\n",
    "ax.xaxis_date()\n",
    "myFmt = mdates.DateFormatter('%H:%M')\n",
    "ax.xaxis.set_major_formatter(myFmt)\n",
    "plt.title(\"Visual. of traffic at slot \" + str(slot_id) + \":sim-\" + sim.name + \" during month with succs rate: \" + str(succes_rate)+ \"%\")\n",
    "plt.ylabel(\"Number of cars\")\n",
    "plt.xlabel(\"Time\")\n",
    "\n",
    "plt.plot(times,ctrs, color='xkcd:blue', label='Demand')\n",
    "plt.plot(times_ch, ctrs_ch, color='xkcd:red', label='Satisfied')\n",
    "\n",
    "#plt.axhline(sim.slots[slot_id].capacity, color = 'xkcd:green', linestyle='dashed', label='Capacity')\n",
    "\n",
    "plt.axhline(0, color = 'xkcd:black', linestyle='dotted')\n",
    "plt.gcf().autofmt_xdate()\n",
    "plt.legend()\n",
    "plt.savefig('sim_' + sim.name + '_slot_' + str(slot_id) + '.png', dpi = 300)\n",
    "plt.show()"
   ]
  },
  {
   "cell_type": "markdown",
   "metadata": {},
   "source": [
    "#### Multiple simulations at selected spot"
   ]
  },
  {
   "cell_type": "code",
   "execution_count": 28,
   "metadata": {
    "pycharm": {
     "is_executing": true
    }
   },
   "outputs": [],
   "source": [
    "times, ctrs, times_ch1, ctrs_ch1 = visualize_prep(sim1, slot_id, False)\n",
    "x, y, times_ch2, ctrs_ch2 = visualize_prep(sim2, slot_id, False)\n",
    "x, y, times_ch3, ctrs_ch3 = visualize_prep(sim3, slot_id, False)\n"
   ]
  },
  {
   "cell_type": "code",
   "execution_count": 29,
   "metadata": {
    "pycharm": {
     "is_executing": true
    }
   },
   "outputs": [
    {
     "data": {
      "image/png": "[encoded data removed]",
      "text/plain": [
       "<Figure size 432x288 with 1 Axes>"
      ]
     },
     "metadata": {
      "needs_background": "light"
     },
     "output_type": "display_data"
    }
   ],
   "source": [
    "fig, ax = plt.subplots()\n",
    "ax.xaxis_date()\n",
    "myFmt = mdates.DateFormatter('%H:%M')\n",
    "ax.xaxis.set_major_formatter(myFmt)\n",
    "plt.title(\"Visual. of traffic at slot \" + str(slot_id) + \" during month\")\n",
    "plt.ylabel(\"Number of cars\")\n",
    "plt.xlabel(\"Time\")\n",
    "\n",
    "plt.plot(times,ctrs, color='xkcd:blue', label='Demand', linestyle='dashed', zorder = 3, alpha=0.5)\n",
    "plt.plot(times_ch1, ctrs_ch1, color='xkcd:red', label=sim1.name)\n",
    "plt.plot(times_ch2, ctrs_ch2, color='xkcd:green', label=sim2.name)\n",
    "plt.plot(times_ch3, ctrs_ch3, color='xkcd:orange', label=sim3.name)\n",
    "\n",
    "#plt.axhline(sim.slots[slot_id].capacity, color = 'xkcd:green', linestyle='dashed', label='Capacity')\n",
    "\n",
    "plt.axhline(0, color = 'xkcd:black', linestyle='dotted')\n",
    "plt.gcf().autofmt_xdate()\n",
    "plt.legend()\n",
    "plt.savefig('all_sim_slot_' + str(slot_id) + '.png', dpi = 300)\n",
    "plt.show()"
   ]
  },
  {
   "cell_type": "markdown",
   "metadata": {},
   "source": [
    "#### Overall visualization"
   ]
  },
  {
   "cell_type": "code",
   "execution_count": 30,
   "metadata": {
    "pycharm": {
     "is_executing": true
    }
   },
   "outputs": [],
   "source": [
    "s1_t, s1_c, s1_t_ch, s1_c_ch = visualize_prep(sim1, None, False)\n",
    "s2_t, s2_c, s2_t_ch, s2_c_ch = visualize_prep(sim2, None, False)\n",
    "s3_t, s3_c, s3_t_ch, s3_c_ch = visualize_prep(sim3, None, False)\n",
    "succes_rate1 = round((sim1.charged_cars/sim1.total_cars)*100, 2)\n",
    "succes_rate2 = round((sim2.charged_cars/sim2.total_cars)*100, 2)\n",
    "succes_rate3 = round((sim3.charged_cars/sim3.total_cars)*100, 2)"
   ]
  },
  {
   "cell_type": "code",
   "execution_count": 31,
   "metadata": {
    "pycharm": {
     "is_executing": true
    }
   },
   "outputs": [
    {
     "data": {
      "image/png": "[encoded data removed]",
      "text/plain": [
       "<Figure size 432x288 with 1 Axes>"
      ]
     },
     "metadata": {
      "needs_background": "light"
     },
     "output_type": "display_data"
    }
   ],
   "source": [
    "fig, ax = plt.subplots()\n",
    "ax.xaxis_date()\n",
    "myFmt = mdates.DateFormatter('%H:%M')\n",
    "ax.xaxis.set_major_formatter(myFmt)\n",
    "plt.title(\"Visual. of traffic during month\")\n",
    "plt.ylabel(\"Number of cars\")\n",
    "plt.xlabel(\"Time\")\n",
    "\n",
    "plt.plot(s1_t, s1_c, color='xkcd:blue', label='Demand', linestyle='dashed', zorder = 3, alpha=0.5)\n",
    "plt.plot(s1_t_ch, s1_c_ch, color='xkcd:red', label=sim1.name + \" \" + str(succes_rate1) + \"%\")\n",
    "plt.plot(s2_t_ch, s2_c_ch, color='xkcd:green', label=sim2.name + \" \" + str(succes_rate2) + \"%\")\n",
    "plt.plot(s3_t_ch, s3_c_ch, color='xkcd:orange', label=sim3.name + \" \" + str(succes_rate3) + \"%\")\n",
    "\n",
    "plt.axhline(0, color='xkcd:black', linestyle='dotted')\n",
    "plt.gcf().autofmt_xdate()\n",
    "plt.legend()\n",
    "plt.savefig('all_sims.png', dpi=300)\n",
    "plt.show()"
   ]
  },
  {
   "cell_type": "code",
   "execution_count": 54,
   "metadata": {},
   "outputs": [
    {
     "data": {
      "image/png": "[encoded data removed]",
      "text/plain": [
       "<Figure size 432x288 with 1 Axes>"
      ]
     },
     "metadata": {
      "needs_background": "light"
     },
     "output_type": "display_data"
    }
   ],
   "source": [
    "#TMP\n",
    "#import subprocess; subprocess.check_call([\"latex\"]\n",
    "\n",
    "fig, ax = plt.subplots()\n",
    "ax.xaxis_date()\n",
    "myFmt = mdates.DateFormatter('%H:%M')\n",
    "ax.xaxis.set_major_formatter(myFmt)\n",
    "plt.title(\"Visual. of traffic during month May\")\n",
    "plt.ylabel(\"Number of cars\")\n",
    "plt.xlabel(\"Time\")\n",
    "\n",
    "plt.plot(s1_t, s1_c, color='xkcd:orange', label='Demand', zorder = 3, alpha=0.5)\n",
    "#plt.plot(s1_t_ch, s1_c_ch, color='xkcd:red', label=sim1.name + \" \" + str(succes_rate1) + \"%\")\n",
    "#plt.plot(s2_t_ch, s2_c_ch, color='xkcd:green', label=sim2.name + \" \" + str(succes_rate2) + \"%\")\n",
    "#plt.plot(s3_t_ch, s3_c_ch, color='xkcd:orange', label=sim3.name + \" \" + str(succes_rate3) + \"%\")\n",
    "\n",
    "plt.axhline(0, color='xkcd:black', linestyle='dotted')\n",
    "plt.gcf().autofmt_xdate()\n",
    "#plt.legend()\n",
    "plt.savefig('tmp_all_sims.png', dpi=300)\n",
    "plt.show()\n"
   ]
  },
  {
   "cell_type": "markdown",
   "metadata": {},
   "source": [
    "### Traffic during month"
   ]
  },
  {
   "cell_type": "markdown",
   "metadata": {},
   "source": [
    "#### Daily summary"
   ]
  },
  {
   "cell_type": "code",
   "execution_count": 43,
   "metadata": {
    "pycharm": {
     "is_executing": true
    }
   },
   "outputs": [],
   "source": [
    "\n",
    "df = sim1.log\n",
    "df = df.loc[df['arrival'].dt.date == df['departure'].dt.date]\n",
    "df = df[(df['arrival'] > '2019-05-13 00:00:01') & (df['arrival'] < '2019-05-31 23:59:00')]\n",
    "df1 = df.groupby(df['arrival'].dt.date).size().reset_index(name='Count')\n",
    "\n",
    "dates = df1['arrival'].to_list()\n",
    "occur = df1['Count'].to_list()"
   ]
  },
  {
   "cell_type": "code",
   "execution_count": 44,
   "metadata": {
    "pycharm": {
     "is_executing": true
    }
   },
   "outputs": [
    {
     "data": {
      "image/png": "[encoded data removed]",
      "text/plain": [
       "<Figure size 432x288 with 1 Axes>"
      ]
     },
     "metadata": {
      "needs_background": "light"
     },
     "output_type": "display_data"
    }
   ],
   "source": [
    "fig, ax = plt.subplots()\n",
    "ax.xaxis_date()\n",
    "plt.title(\"Daily summary of traffic during month May\")\n",
    "plt.ylabel(\"Number of cars\")\n",
    "plt.xlabel(\"Date\")\n",
    "\n",
    "plt.bar(dates, occur, color='xkcd:peach', width=0.25)\n",
    "\n",
    "plt.axhline(0, color='xkcd:black', linestyle='dotted')\n",
    "plt.gcf().autofmt_xdate()\n",
    "plt.savefig('all_sims.png', dpi=300)\n",
    "plt.show()\n",
    "\n"
   ]
  },
  {
   "cell_type": "code",
   "execution_count": 41,
   "metadata": {},
   "outputs": [
    {
     "data": {
      "text/plain": [
       "[datetime.date(2019, 5, 13),\n",
       " datetime.date(2019, 5, 14),\n",
       " datetime.date(2019, 5, 15),\n",
       " datetime.date(2019, 5, 16),\n",
       " datetime.date(2019, 5, 17),\n",
       " datetime.date(2019, 5, 18),\n",
       " datetime.date(2019, 5, 19),\n",
       " datetime.date(2019, 5, 20),\n",
       " datetime.date(2019, 5, 21),\n",
       " datetime.date(2019, 5, 22),\n",
       " datetime.date(2019, 5, 23),\n",
       " datetime.date(2019, 5, 24),\n",
       " datetime.date(2019, 5, 25),\n",
       " datetime.date(2019, 5, 26),\n",
       " datetime.date(2019, 5, 27),\n",
       " datetime.date(2019, 5, 28),\n",
       " datetime.date(2019, 5, 29),\n",
       " datetime.date(2019, 5, 30)]"
      ]
     },
     "execution_count": 41,
     "metadata": {},
     "output_type": "execute_result"
    }
   ],
   "source": [
    "dates"
   ]
  },
  {
   "cell_type": "markdown",
   "metadata": {},
   "source": [
    "#### Whole month "
   ]
  },
  {
   "cell_type": "code",
   "execution_count": 34,
   "metadata": {
    "pycharm": {
     "is_executing": true
    }
   },
   "outputs": [],
   "source": [
    "#If month is True then visualize for whole 31 days\n",
    "times, ctrs, times_ch, ctrs_ch = visualize_prep(sim1, slot_id, True)"
   ]
  },
  {
   "cell_type": "code",
   "execution_count": 35,
   "metadata": {
    "pycharm": {
     "is_executing": true
    }
   },
   "outputs": [
    {
     "data": {
      "image/png": "[encoded data removed]",
      "text/plain": [
       "<Figure size 432x288 with 1 Axes>"
      ]
     },
     "metadata": {
      "needs_background": "light"
     },
     "output_type": "display_data"
    }
   ],
   "source": [
    "\n",
    "#STILL CONTINOUS!!!!!!\n",
    "\n",
    "fig, ax = plt.subplots()\n",
    "ax.xaxis_date()\n",
    "#myFmt = mdates.DateFormatter('%H:%M')\n",
    "#ax.xaxis.set_major_formatter(myFmt)\n",
    "plt.title(\"Traffic during month\")\n",
    "plt.ylabel(\"Number of cars\")\n",
    "plt.xlabel(\"Time\")\n",
    "\n",
    "plt.plot(times,ctrs, color='xkcd:blue', label='Demand')\n",
    "plt.plot(times_ch, ctrs_ch, color='xkcd:red', label='Satisfied')\n",
    "\n",
    "#plt.axhline(sim.slots[slot_id].capacity, color = 'xkcd:green', linestyle='dashed', label='Capacity')\n",
    "\n",
    "plt.axhline(0, color = 'xkcd:black', linestyle='dotted')\n",
    "plt.gcf().autofmt_xdate()\n",
    "plt.legend()\n",
    "plt.savefig('month.png', dpi=300)\n",
    "plt.show()"
   ]
  },
  {
   "cell_type": "markdown",
   "metadata": {},
   "source": [
    "## Simple optimization"
   ]
  },
  {
   "cell_type": "code",
   "execution_count": null,
   "metadata": {
    "pycharm": {
     "is_executing": true
    }
   },
   "outputs": [],
   "source": [
    "#We must establish values needed for satisfaction of all users\n",
    "upper_max_cpct = []\n",
    "for i in range(len(sim.slots)):\n",
    "    times, ctrs, times_ch, ctrs_ch = visualize_prep(sim, i, True)\n",
    "    upper_max_cpct.append(max(ctrs))\n"
   ]
  },
  {
   "cell_type": "markdown",
   "metadata": {},
   "source": [
    "### Optimization focused on maximizing charged kWh"
   ]
  },
  {
   "cell_type": "code",
   "execution_count": null,
   "metadata": {
    "pycharm": {
     "is_executing": true
    }
   },
   "outputs": [],
   "source": [
    "#Now we decrement one charger from spot X each loop, spot X is the one that has the lowest decrease of electricity output without one charger\n",
    "sim = sim1\n",
    "opt_cpct = upper_max_cpct.copy()\n",
    "\n",
    "limit = sum(default_cpct)\n",
    "\n",
    "max_cpct = []\n",
    "while sum(opt_cpct) != limit:\n",
    "    #print(sum(opt_cpct))\n",
    "    max = np.NINF\n",
    "    for i in range(len(sim.slots)):\n",
    "        if opt_cpct[i] > 0:\n",
    "            tmp_cpct = opt_cpct.copy()\n",
    "            tmp_cpct[i] = tmp_cpct[i] - 1\n",
    "            tmp_slots = create_slots(tmp_cpct)\n",
    "            tmp_sim = Simulation(traffic, tmp_slots, \"opt\")\n",
    "            tmp_sim.simulate_slot(i)\n",
    "            #print(str(i) + \" --- \" + str(tmp_sim.total_kW))\n",
    "\n",
    "            if max < tmp_sim.total_kWh:\n",
    "                max = tmp_sim.total_kWh\n",
    "                #print(\"Found new max at: \" + str(i))\n",
    "                max_cpct = tmp_cpct.copy()\n",
    "\n",
    "    opt_cpct = max_cpct.copy()"
   ]
  },
  {
   "cell_type": "code",
   "execution_count": null,
   "metadata": {
    "pycharm": {
     "is_executing": true
    }
   },
   "outputs": [],
   "source": [
    "\n",
    "#Optimal capacity to maximize kWh charged has been found, now we can try and simulate it\n",
    "#          [9.0, 13.0, 16.0, 5.0, 9.0, 13.0, 6.0, 5.0, 13.0, 4.0, 1.0, 8.0, 12.0, 2.0, 2.0, 5.0, 7.0, 4.0]\n",
    "#opt_cpct = [9.0, 13.0, 16.0, 5.0, 9.0, 13.0, 6.0, 5.0, 13.0, 4.0, 1.0, 8.0, 12.0, 2.0, 2.0, 5.0, 7.0, 4.0]\n",
    "traffic = load_traffic(\"input/3_traffic_export_may.csv\")\n",
    "opt_cpct = find_optimal(None, traffic, default_cpct) #This function is identical to code above\n",
    "slots4 = create_slots(opt_cpct)\n",
    "sim4 = Simulation(traffic, slots4, \"opt-kWh\")\n",
    "sim4.simulate()"
   ]
  },
  {
   "cell_type": "markdown",
   "metadata": {},
   "source": [
    "### Heuristic focused on maximizing number of charged vehicles"
   ]
  },
  {
   "cell_type": "code",
   "execution_count": null,
   "metadata": {
    "pycharm": {
     "is_executing": true
    }
   },
   "outputs": [],
   "source": [
    "#Now we decrement one charger from spot X each loop, spot X is the one that has the lowest decrease of electricity output without one charger\n",
    "sim = sim1\n",
    "found_cpct = upper_max_cpct.copy()\n",
    "\n",
    "limit = sum(default_cpct)\n",
    "\n",
    "max_cpct = []\n",
    "while sum(found_cpct) != limit:\n",
    "    #print(sum(opt_cpct))\n",
    "    max = np.NINF\n",
    "    for i in range(len(sim.slots)):\n",
    "        if found_cpct[i] > 0:\n",
    "            tmp_cpct = found_cpct.copy()\n",
    "            tmp_cpct[i] = tmp_cpct[i] - 1\n",
    "            tmp_slots = create_slots(tmp_cpct)\n",
    "            tmp_sim = Simulation(traffic, tmp_slots, \"opt\")\n",
    "            tmp_sim.simulate_slot(i)\n",
    "            #print(str(i) + \" --- \" + str(tmp_sim.total_kW))\n",
    "\n",
    "            if max < tmp_sim.charged_cars:\n",
    "                max = tmp_sim.charged_cars\n",
    "                #print(\"Found new max at: \" + str(i))\n",
    "                max_cpct = tmp_cpct.copy()\n",
    "\n",
    "    found_cpct = max_cpct.copy()"
   ]
  },
  {
   "cell_type": "code",
   "execution_count": null,
   "metadata": {
    "pycharm": {
     "is_executing": true
    }
   },
   "outputs": [],
   "source": [
    "#not optimal, only heuristic\n",
    "#Heuristic capacity to maximize number of charged vehicles has been found, now we can try and simulate it\n",
    "traffic = load_traffic(\"input/3_traffic_export_may.csv\")\n",
    "\n",
    "slots5 = create_slots(found_cpct)\n",
    "sim5 = Simulation(traffic, slots5, \"opt-cars\")\n",
    "sim5.simulate()\n",
    "sum(opt_cpct)"
   ]
  },
  {
   "cell_type": "markdown",
   "metadata": {},
   "source": [
    "### Comparison with previous solutions"
   ]
  },
  {
   "cell_type": "code",
   "execution_count": null,
   "metadata": {
    "pycharm": {
     "is_executing": true
    }
   },
   "outputs": [],
   "source": [
    "sims = [sim1, sim2, sim3, sim4, sim5]\n",
    "names = []\n",
    "ch_cars = []\n",
    "total_cars = []\n",
    "total_ch_time = []\n",
    "total_kw = []\n",
    "for sm in sims:\n",
    "    names.append(sm.name)\n",
    "    ch_cars.append(sm.charged_cars)\n",
    "    total_ch_time.append(sm.total_ch_time)\n",
    "    total_kw.append(sm.total_kWh)\n",
    "    total_cars.append(sm.total_cars)\n",
    "    "
   ]
  },
  {
   "cell_type": "code",
   "execution_count": null,
   "metadata": {
    "pycharm": {
     "is_executing": true
    }
   },
   "outputs": [],
   "source": [
    "res = {'name': names,\n",
    "        'ch_cars': ch_cars,\n",
    "        'total_cars': total_cars,\n",
    "        'total_ch_time': total_ch_time,\n",
    "        'total_energy_output': total_kw}\n",
    "results = pd.DataFrame(res)\n",
    "results['succes_rate'] = (results['ch_cars']/results['total_cars'])*100\n",
    "#results['avg_slot_succes'] = [usage['satisfied_perc'].mean(), usage2['satisfied_perc'].mean(), usage3['satisfied_perc'].mean()]\n",
    "results.head()"
   ]
  },
  {
   "cell_type": "markdown",
   "metadata": {},
   "source": [
    "## Crossvalidation"
   ]
  },
  {
   "cell_type": "code",
   "execution_count": null,
   "metadata": {
    "pycharm": {
     "is_executing": true
    }
   },
   "outputs": [],
   "source": [
    "sets = get_sets(\"input/complete_traffic_export.csv\") #divide data into 28 sets, each containing one random day of weekdays\n",
    "tmp_sets = []\n",
    "test = []\n",
    "#cpct = [14, 1, 2, 3, 1, 1, 6, 1, 2 ,3, 3, 1, 1, 2, 2, 40, 24, 27] #original capacity from Skoda Auto\n",
    "cpct = [4, 1, 2, 3, 1, 1, 6, 1, 2 ,3, 3, 1, 1, 2, 2, 40, 1, 16] #decreased capacity during call with Martin\n",
    "train_kwh = []\n",
    "train_time = []\n",
    "test_kwh = []\n",
    "test_time = []\n",
    "train_sims = []\n",
    "\n",
    "for i in range(0, 28, 4):\n",
    "    test = []\n",
    "    tmp_sets = sets.copy()\n",
    "    for j in range(4):\n",
    "        add = tmp_sets[i]\n",
    "        test.extend(add)\n",
    "        tmp_sets.remove(add)\n",
    "    train = [item for sublist in tmp_sets for item in sublist]\n",
    "    train = order_set(train)\n",
    "    train = [item for sublist in train for item in sublist]\n",
    "\n",
    "    test = order_set(test)\n",
    "    test = [item for sublist in test for item in sublist]\n",
    "    \n",
    "    print(\"Length of train set: \" + str(len(train)))\n",
    "    print(\"Length of test set: \" + str(len(test)))\n",
    "    \n",
    "    train_opt = find_optimal(None, train, cpct)\n",
    "    test_opt = find_optimal(None, test, cpct)\n",
    "\n",
    "    print(\"Sum of train capacity: \" + str(train_opt))\n",
    "    print(\"Sum of test capacity: \" + str(test_opt))\n",
    "    \n",
    "    \n",
    "    train_slots = create_slots(train_opt)\n",
    "    sim_train = Simulation(test, train_slots, \"trained setup on test data\")\n",
    "    sim_train.simulate()\n",
    "\n",
    "    test_slots = create_slots(test_opt)\n",
    "    sim_test = Simulation(test, test_slots, \"overfitted setup on test data\")\n",
    "    sim_test.simulate()\n",
    "    \n",
    "    #Append to lists of results\n",
    "    train_kwh.append(sim_train.total_kWh)\n",
    "    train_time.append(sim_train.total_ch_time)\n",
    "    test_kwh.append(sim_test.total_kWh)\n",
    "    test_time.append(sim_test.total_ch_time)\n",
    "    train_sims.append(sim_train)\n",
    "\n",
    "    print(\"-----------\")\n",
    "        \n"
   ]
  },
  {
   "cell_type": "code",
   "execution_count": null,
   "metadata": {
    "pycharm": {
     "is_executing": true
    }
   },
   "outputs": [],
   "source": [
    "#sum(cpct)"
   ]
  },
  {
   "cell_type": "code",
   "execution_count": null,
   "metadata": {
    "pycharm": {
     "is_executing": true
    }
   },
   "outputs": [],
   "source": [
    "#Create Pandas DataFrame\n",
    "results = {\"Trained setup on test set [time]\": train_time,\n",
    "        'Overfitted setup [time]': test_time,\n",
    "        'Trained setup on test set [kWh]': train_kwh,\n",
    "        'Overfitted setup [kWh]': test_kwh\n",
    "        }\n",
    "\n",
    "df = pd.DataFrame(results, columns = ['Trained setup on test set [time]', 'Overfitted setup [time]', 'Trained setup on test set [kWh]', 'Overfitted setup [kWh]'])\n",
    "df['Success rate [%]'] = (df['Trained setup on test set [kWh]']/df['Overfitted setup [kWh]'])*100\n",
    "df\n"
   ]
  },
  {
   "cell_type": "code",
   "execution_count": null,
   "metadata": {
    "pycharm": {
     "is_executing": true
    }
   },
   "outputs": [],
   "source": [
    "#Results with highlighted maximum values\n",
    "df.style.apply(highlight_max,subset=pd.IndexSlice[:, ['Success rate [%]']])\n",
    "\n",
    "\n"
   ]
  },
  {
   "cell_type": "code",
   "execution_count": null,
   "metadata": {
    "pycharm": {
     "is_executing": true
    }
   },
   "outputs": [],
   "source": [
    "#Performance of found setup on whole traffic data\n",
    "#Low performance is because budget of charging stations has been decreased, now is 90 instead of original 134\n",
    "#winning_cpct = [4.0, 8.0, 9.0, 4.0, 6.0, 9.0, 5.0, 4.0, 10.0, 4.0, 1.0, 5.0, 8.0, 1.0, 1.0, 3.0, 5.0, 3.0]\n",
    "traffic = load_traffic(\"input/complete_traffic_export.csv\") #traffic exported from SQL database\n",
    "slots = create_slots(winning_cpct)\n",
    "sim_win = Simulation(traffic, slots, \"win\")\n",
    "sim_win.simulate()"
   ]
  },
  {
   "cell_type": "code",
   "execution_count": null,
   "metadata": {
    "pycharm": {
     "is_executing": true
    }
   },
   "outputs": [],
   "source": [
    "sum(winning_cpct)"
   ]
  },
  {
   "cell_type": "markdown",
   "metadata": {},
   "source": [
    "## Different fleet scenarios"
   ]
  },
  {
   "cell_type": "markdown",
   "metadata": {},
   "source": [
    "### Random N%"
   ]
  },
  {
   "cell_type": "code",
   "execution_count": null,
   "metadata": {
    "pycharm": {
     "is_executing": true
    }
   },
   "outputs": [],
   "source": [
    "#Randomly selects N percent of cars as electric during initiation\n",
    "#use random.sample(list, number_of_samples)\n",
    "N = 0.5 #50%\n",
    "\n",
    "unique_cars = get_unique_cars(\"input/3_traffic_export_may.csv\")\n",
    "random_cars = random.sample(unique_cars, int(len(unique_cars)*N))\n",
    "\n",
    "random_traffic = load_selected_traffic(\"input/3_traffic_export_may.csv\", random_cars)\n",
    "slots = create_slots(default_cpct)\n",
    "sim_random = Simulation(random_traffic, slots, \"random 50%\")\n",
    "sim_random.simulate()"
   ]
  },
  {
   "cell_type": "code",
   "execution_count": null,
   "metadata": {
    "pycharm": {
     "is_executing": true
    }
   },
   "outputs": [],
   "source": [
    "len(unique_cars)\n",
    "x = np.array(unique_cars) \n",
    "print(len(np.unique(x))) "
   ]
  },
  {
   "cell_type": "markdown",
   "metadata": {},
   "source": [
    "### Based on stop length"
   ]
  },
  {
   "cell_type": "code",
   "execution_count": null,
   "metadata": {
    "pycharm": {
     "is_executing": true
    }
   },
   "outputs": [],
   "source": [
    "traffic = load_traffic(\"input/3_traffic_export_may.csv\")\n",
    "slots = create_slots(default_cpct)\n",
    "sim_all = Simulation(traffic, slots, \"Skoda\")\n",
    "sim_all.simulate()\n",
    "sim_all.total_kWh"
   ]
  },
  {
   "cell_type": "code",
   "execution_count": null,
   "metadata": {
    "pycharm": {
     "is_executing": true
    }
   },
   "outputs": [],
   "source": [
    "df = sim_all.log\n",
    "df['duration'] = df['departure'] - df['arrival']\n",
    "df.groupby(['car_id']).sum()"
   ]
  },
  {
   "cell_type": "code",
   "execution_count": null,
   "metadata": {
    "pycharm": {
     "is_executing": true
    }
   },
   "outputs": [],
   "source": [
    "df['tmp'] = 1\n",
    "df['duration_sec'] = df.duration.dt.total_seconds()\n",
    "nw = df.groupby(\"car_id\").sum()\n",
    "nw = nw.reset_index()\n",
    "nw['avg'] = nw['duration_sec']/nw['tmp']\n",
    "nw = nw.sort_values(by=['avg'], ascending=False)\n",
    "longest_stop_list = nw['car_id'].to_list()\n"
   ]
  },
  {
   "cell_type": "code",
   "execution_count": null,
   "metadata": {
    "pycharm": {
     "is_executing": true
    }
   },
   "outputs": [],
   "source": [
    "#stop_length_cpct = default_cpct\n",
    "stop_length_cpct = [8.0, 11.0, 12.0, 6.0, 9.0, 12.0, 6.0, 6.0, 13.0, 6.0, 3.0, 8.0, 11.0, 3.0, 2.0, 6.0, 7.0, 5.0]\n",
    "selected_cars = longest_stop_list[:int(len(longest_stop_list)*N)]\n",
    "selected_traffic = load_selected_traffic(\"input/3_traffic_export_may.csv\", selected_cars)\n",
    "slots = create_slots(stop_length_cpct)\n",
    "sim_stop_length = Simulation(selected_traffic, slots, \"stop length 50%\")\n",
    "sim_stop_length.simulate()"
   ]
  },
  {
   "cell_type": "code",
   "execution_count": null,
   "metadata": {
    "pycharm": {
     "is_executing": true
    }
   },
   "outputs": [],
   "source": [
    "nw"
   ]
  },
  {
   "cell_type": "markdown",
   "metadata": {},
   "source": [
    "## Experiments"
   ]
  },
  {
   "cell_type": "markdown",
   "metadata": {},
   "source": [
    "Focused on performance of optimization in scenarios with decreased capacity of charging stations.<br>\n",
    "Each experiment will be cross-validated on set of 28 random weekdays, this gives us 140 days.<br>\n",
    "K-fold crossvalidate method is used, always having 4 sets of weekdays as testing dataset and 24 sets of weekdays as training dataset.<br> K-fold where k = 4 and n = 28. <br> In this case we have 7 different combinations.<br>\n",
    "Dataset is randomly shuffled but each one of 28 sets contains one Monday, one Tuesday, etc.<br>\n",
    "Around 85% satisfied cars could be considered as good performance.<br>\n",
    "Traffic data from weekdays between March and September.\n",
    "\n",
    "\n",
    "Experiments:\n",
    "    1. Default capacity\n",
    "    2. 80% of default capacity\n",
    "    3. 65% of default capacity\n",
    "    4. 50% of default capacity"
   ]
  },
  {
   "cell_type": "code",
   "execution_count": null,
   "metadata": {
    "pycharm": {
     "is_executing": true
    }
   },
   "outputs": [],
   "source": [
    "#Prepare dataset for crossvalidate\n",
    "sets = get_sets(\"input/complete_traffic_export.csv\")"
   ]
  },
  {
   "cell_type": "markdown",
   "metadata": {},
   "source": [
    "### Default capacity"
   ]
  },
  {
   "cell_type": "markdown",
   "metadata": {},
   "source": [
    "Default capacity with total of 134 available chargers.\n"
   ]
  },
  {
   "cell_type": "code",
   "execution_count": null,
   "metadata": {
    "pycharm": {
     "is_executing": true
    }
   },
   "outputs": [],
   "source": [
    "default_cpct = [134, 0, 0, 0, 0, 0, 0, 0, 0, 0, 0, 0, 0, 0, 0, 0, 0, 0]\n",
    "print(\"Result log:\")\n",
    "train_sims, test_sims = crossvalidate_optimal(sets.copy(), default_cpct); #same code as in Crossvalidation section, function used to save space\n",
    "\n",
    "#Get results\n",
    "train_kwh = []\n",
    "train_time = []\n",
    "test_kwh = []\n",
    "test_time = []\n",
    "for i in range(len(train_sims)):\n",
    "    train_kwh.append(train_sims[i].total_kWh)\n",
    "    train_time.append(train_sims[i].total_ch_time)\n",
    "    test_kwh.append(test_sims[i].total_kWh)\n",
    "    test_time.append(test_sims[i].total_ch_time)\n"
   ]
  },
  {
   "cell_type": "code",
   "execution_count": null,
   "metadata": {
    "pycharm": {
     "is_executing": true
    }
   },
   "outputs": [],
   "source": [
    "dflt_results = {'Trained setup on test set [time]': train_time,\n",
    "        'Overfitted setup [time]': test_time,\n",
    "        'Trained setup on test set [kWh]': train_kwh,\n",
    "        'Overfitted setup [kWh]': test_kwh\n",
    "        }\n",
    "\n",
    "dflt = pd.DataFrame(dflt_results, columns = ['Trained setup on test set [time]', 'Overfitted setup [time]', 'Trained setup on test set [kWh]', 'Overfitted setup [kWh]'])\n",
    "dflt['Success rate [%]'] = (dflt['Trained setup on test set [kWh]']/dflt['Overfitted setup [kWh]'])*100\n",
    "cmprs = dflt.tail(1).copy()\n",
    "cmprs['name'] = 'dflt'\n",
    "dflt.style.apply(highlight_max,subset=pd.IndexSlice[:, ['Success rate [%]']]).format({'Success rate [%]': \"{:.2f}\" , 'Trained setup on test set [kWh]' : \"{:.4E}\", 'Overfitted setup [kWh]' : \"{:.4E}\"})\n"
   ]
  },
  {
   "cell_type": "markdown",
   "metadata": {},
   "source": [
    "Result log and Pandas DataFrame show us that there is a little difference between performance of overfitted setup and setup trained on training data. Ratio between trained and overfitted setup is calculated in column \"Success rate\". This means low risk of overfitting the data. <br><br>\n",
    "To show performance of optimization we will decrement charging capacity in next steps, therefore more coherent setup will be needed to achieve high performance."
   ]
  },
  {
   "cell_type": "markdown",
   "metadata": {},
   "source": [
    "#### Comparison with equally distributed setup"
   ]
  },
  {
   "cell_type": "code",
   "execution_count": null,
   "metadata": {
    "pycharm": {
     "is_executing": true
    }
   },
   "outputs": [],
   "source": [
    "\n",
    "print(\"Equal results log:\")\n",
    "equal_sims = crossvalidate_equal(sets.copy(), default_cpct); \n",
    "\n",
    "#Get results\n",
    "equal_kwh = []\n",
    "equal_time = []\n",
    "\n",
    "for i in range(len(equal_sims)):\n",
    "    equal_kwh.append(equal_sims[i].total_kWh)\n",
    "    equal_time.append(equal_sims[i].total_ch_time)\n"
   ]
  },
  {
   "cell_type": "code",
   "execution_count": null,
   "metadata": {
    "pycharm": {
     "is_executing": true
    }
   },
   "outputs": [],
   "source": [
    "equal_dflt_res = {'Equal setup on test set [time]': equal_time,\n",
    "        'Trained setup on test set [time]': train_time,\n",
    "        'Equal setup on test set [kWh]': equal_kwh,\n",
    "        'Trained setup on test set [kWh]': train_kwh,\n",
    "        }\n",
    "equal_dflt = pd.DataFrame(equal_dflt_res, columns = ['Equal setup on test set [time]', 'Trained setup on test set [time]', 'Equal setup on test set [kWh]', 'Trained setup on test set [kWh]'])\n",
    "equal_dflt['Success rate [%]'] = (equal_dflt['Equal setup on test set [kWh]']/equal_dflt['Trained setup on test set [kWh]'])*100\n",
    "equal_dflt.style.format({'Success rate [%]': \"{:.2f}\", 'Equal setup on test set [kWh]' : \"{:.4E}\", 'Trained setup on test set [kWh]' : \"{:.4E}\"})"
   ]
  },
  {
   "cell_type": "code",
   "execution_count": null,
   "metadata": {
    "pycharm": {
     "is_executing": true
    }
   },
   "outputs": [],
   "source": []
  },
  {
   "cell_type": "markdown",
   "metadata": {},
   "source": [
    "### 80% of default capacity"
   ]
  },
  {
   "cell_type": "markdown",
   "metadata": {},
   "source": [
    "Approximately 80% of default capacity => 134*0.8 = 107.2"
   ]
  },
  {
   "cell_type": "code",
   "execution_count": null,
   "metadata": {
    "pycharm": {
     "is_executing": true
    }
   },
   "outputs": [],
   "source": [
    "cpct_80 = [107, 0, 0, 0, 0, 0, 0, 0, 0, 0, 0, 0, 0, 0, 0, 0, 0, 0]\n",
    "print(\"Result log:\")\n",
    "_80_train_sims, _80_test_sims = crossvalidate_optimal(sets.copy(), cpct_80); #same code as in Crossvalidation section, function used to save space\n",
    "\n",
    "#Get results\n",
    "_80_train_kwh = []\n",
    "_80_train_time = []\n",
    "_80_test_kwh = []\n",
    "_80_test_time = []\n",
    "for i in range(len(_80_train_sims)):\n",
    "    _80_train_kwh.append(_80_train_sims[i].total_kWh)\n",
    "    _80_train_time.append(_80_train_sims[i].total_ch_time)\n",
    "    _80_test_kwh.append(_80_test_sims[i].total_kWh)\n",
    "    _80_test_time.append(_80_test_sims[i].total_ch_time)\n"
   ]
  },
  {
   "cell_type": "code",
   "execution_count": null,
   "metadata": {
    "pycharm": {
     "is_executing": true
    }
   },
   "outputs": [],
   "source": [
    "_80_results = {\"Trained setup on test set [time]\": _80_train_time,\n",
    "        'Overfitted setup [time]': _80_test_time,\n",
    "        'Trained setup on test set [kWh]': _80_train_kwh,\n",
    "        'Overfitted setup [kWh]': _80_test_kwh\n",
    "        }\n",
    "\n",
    "cpct_80 = pd.DataFrame(_80_results, columns = ['Trained setup on test set [time]', 'Overfitted setup [time]', 'Trained setup on test set [kWh]', 'Overfitted setup [kWh]'])\n",
    "cpct_80['Success rate [%]'] = (cpct_80['Trained setup on test set [kWh]']/cpct_80['Overfitted setup [kWh]'])*100\n",
    "\n",
    "_tmp = cpct_80.tail(1).copy()\n",
    "_tmp['name'] = 'cpct_80'\n",
    "cmprs = cmprs.append(_tmp)\n",
    "cpct_80.style.apply(highlight_max,subset=pd.IndexSlice[:, ['Success rate [%]']]).format({'Success rate [%]': \"{:.2f}\" , 'Trained setup on test set [kWh]' : \"{:.4E}\", 'Overfitted setup [kWh]' : \"{:.4E}\"})\n"
   ]
  },
  {
   "cell_type": "markdown",
   "metadata": {},
   "source": [
    "With 80% of original capacity the performance is still good, around 90% of successfully charged cars. Comparison with exact kWh will follow after experiments."
   ]
  },
  {
   "cell_type": "markdown",
   "metadata": {},
   "source": [
    "#### Comparison with equally distributed setup"
   ]
  },
  {
   "cell_type": "code",
   "execution_count": null,
   "metadata": {
    "pycharm": {
     "is_executing": true
    }
   },
   "outputs": [],
   "source": [
    "\n",
    "print(\"Equal results log:\")\n",
    "_80_equal_sims = crossvalidate_equal(sets.copy(), cpct_80); \n",
    "\n",
    "#Get results\n",
    "_80_equal_kwh = []\n",
    "_80_equal_time = []\n",
    "\n",
    "for i in range(len(_80_equal_sims)):\n",
    "    _80_equal_kwh.append(_80_equal_sims[i].total_kWh)\n",
    "    _80_equal_time.append(_80_equal_sims[i].total_ch_time)\n"
   ]
  },
  {
   "cell_type": "code",
   "execution_count": null,
   "metadata": {
    "pycharm": {
     "is_executing": true
    }
   },
   "outputs": [],
   "source": [
    "equal_80_res = {'Equal setup on test set [time]': _80_equal_time,\n",
    "        'Trained setup on test set [time]': _80_train_time,\n",
    "        'Equal setup on test set [kWh]': _80_equal_kwh,\n",
    "        'Trained setup on test set [kWh]': _80_train_kwh,\n",
    "        }\n",
    "equal_80 = pd.DataFrame(equal_80_res, columns = ['Equal setup on test set [time]', 'Trained setup on test set [time]', 'Equal setup on test set [kWh]', 'Trained setup on test set [kWh]'])\n",
    "equal_80['Success rate [%]'] = (equal_80['Equal setup on test set [kWh]']/equal_80['Trained setup on test set [kWh]'])*100\n",
    "equal_80.style.format({'Success rate [%]': \"{:.2f}\", 'Equal setup on test set [kWh]' : \"{:.4E}\", 'Trained setup on test set [kWh]' : \"{:.4E}\"})"
   ]
  },
  {
   "cell_type": "markdown",
   "metadata": {},
   "source": [
    "### 65% of default capacity"
   ]
  },
  {
   "cell_type": "markdown",
   "metadata": {},
   "source": [
    "Approximately 65% of default capacity => 134*0.7 = 87.1"
   ]
  },
  {
   "cell_type": "code",
   "execution_count": null,
   "metadata": {
    "pycharm": {
     "is_executing": true
    }
   },
   "outputs": [],
   "source": [
    "cpct_65 = [87, 0, 0, 0, 0, 0, 0, 0, 0, 0, 0, 0, 0, 0, 0, 0, 0, 0]\n",
    "print(\"Result log:\")\n",
    "_65_train_sims, _65_test_sims = crossvalidate_optimal(sets.copy(), cpct_65); #same code as in Crossvalidation section, function used to save space\n",
    "\n",
    "#Get results\n",
    "_65_train_kwh = []\n",
    "_65_train_time = []\n",
    "_65_test_kwh = []\n",
    "_65_test_time = []\n",
    "for i in range(len(_65_train_sims)):\n",
    "    _65_train_kwh.append(_65_train_sims[i].total_kWh)\n",
    "    _65_train_time.append(_65_train_sims[i].total_ch_time)\n",
    "    _65_test_kwh.append(_65_test_sims[i].total_kWh)\n",
    "    _65_test_time.append(_65_test_sims[i].total_ch_time)\n"
   ]
  },
  {
   "cell_type": "code",
   "execution_count": null,
   "metadata": {
    "pycharm": {
     "is_executing": true
    }
   },
   "outputs": [],
   "source": [
    "_65_results = {\"Trained setup on test set [time]\": _65_train_time,\n",
    "        'Overfitted setup [time]': _65_test_time,\n",
    "        'Trained setup on test set [kWh]': _65_train_kwh,\n",
    "        'Overfitted setup [kWh]': _65_test_kwh\n",
    "        }\n",
    "\n",
    "cpct_65 = pd.DataFrame(_65_results, columns = ['Trained setup on test set [time]', 'Overfitted setup [time]', 'Trained setup on test set [kWh]', 'Overfitted setup [kWh]'])\n",
    "cpct_65['Success rate [%]'] = (cpct_65['Trained setup on test set [kWh]']/cpct_65['Overfitted setup [kWh]'])*100\n",
    "\n",
    "_tmp = cpct_65.tail(1).copy()\n",
    "_tmp['name'] = 'cpct_65'\n",
    "cmprs = cmprs.append(_tmp)\n",
    "cpct_65.style.apply(highlight_max,subset=pd.IndexSlice[:, ['Success rate [%]']]).format({'Success rate [%]': \"{:.2f}\" , 'Trained setup on test set [kWh]' : \"{:.4E}\", 'Overfitted setup [kWh]' : \"{:.4E}\"})\n"
   ]
  },
  {
   "cell_type": "markdown",
   "metadata": {},
   "source": [
    "Even with 65% of original capacity there is still solid performance. From crossvalidate results we can see that there is a little difference between performance of overfitted setup and trained setup. This tells us that we have prepared training/testing dataset with almost perfectly balanced traffic. "
   ]
  },
  {
   "cell_type": "markdown",
   "metadata": {},
   "source": [
    "#### Comparison with equally distributed setup"
   ]
  },
  {
   "cell_type": "code",
   "execution_count": null,
   "metadata": {
    "pycharm": {
     "is_executing": true
    }
   },
   "outputs": [],
   "source": [
    "\n",
    "print(\"Equal results log:\")\n",
    "_65_equal_sims = crossvalidate_equal(sets.copy(), cpct_65); \n",
    "\n",
    "#Get results\n",
    "_65_equal_kwh = []\n",
    "_65_equal_time = []\n",
    "\n",
    "for i in range(len(_65_equal_sims)):\n",
    "    _65_equal_kwh.append(_65_equal_sims[i].total_kWh)\n",
    "    _65_equal_time.append(_65_equal_sims[i].total_ch_time)\n"
   ]
  },
  {
   "cell_type": "code",
   "execution_count": null,
   "metadata": {
    "pycharm": {
     "is_executing": true
    }
   },
   "outputs": [],
   "source": [
    "equal_65_res = {'Equal setup on test set [time]': _65_equal_time,\n",
    "        'Trained setup on test set [time]': _65_train_time,\n",
    "        'Equal setup on test set [kWh]': _65_equal_kwh,\n",
    "        'Trained setup on test set [kWh]': _65_train_kwh,\n",
    "        }\n",
    "equal_65 = pd.DataFrame(equal_65_res, columns = ['Equal setup on test set [time]', 'Trained setup on test set [time]', 'Equal setup on test set [kWh]', 'Trained setup on test set [kWh]'])\n",
    "equal_65['Success rate [%]'] = (equal_65['Equal setup on test set [kWh]']/equal_65['Trained setup on test set [kWh]'])*100\n",
    "equal_65.style.format({'Success rate [%]': \"{:.2f}\", 'Equal setup on test set [kWh]' : \"{:.4E}\", 'Trained setup on test set [kWh]' : \"{:.4E}\"})"
   ]
  },
  {
   "cell_type": "markdown",
   "metadata": {},
   "source": [
    "### 50% of default capacity"
   ]
  },
  {
   "cell_type": "markdown",
   "metadata": {},
   "source": [
    "Approximately 50% of default capacity => 134*0.5 = 67"
   ]
  },
  {
   "cell_type": "code",
   "execution_count": null,
   "metadata": {
    "pycharm": {
     "is_executing": true
    }
   },
   "outputs": [],
   "source": [
    "cpct_50 = [67, 0, 0, 0, 0, 0, 0, 0, 0, 0, 0, 0, 0, 0, 0, 0, 0, 0]\n",
    "print(\"Result log:\")\n",
    "_50_train_sims, _50_test_sims = crossvalidate_optimal(sets.copy(), cpct_50); #same code as in Crossvalidation section, function used to save space\n",
    "\n",
    "#Get results\n",
    "_50_train_kwh = []\n",
    "_50_train_time = []\n",
    "_50_test_kwh = []\n",
    "_50_test_time = []\n",
    "for i in range(len(_50_train_sims)):\n",
    "    _50_train_kwh.append(_50_train_sims[i].total_kWh)\n",
    "    _50_train_time.append(_50_train_sims[i].total_ch_time)\n",
    "    _50_test_kwh.append(_50_test_sims[i].total_kWh)\n",
    "    _50_test_time.append(_50_test_sims[i].total_ch_time)\n"
   ]
  },
  {
   "cell_type": "code",
   "execution_count": null,
   "metadata": {
    "pycharm": {
     "is_executing": true
    }
   },
   "outputs": [],
   "source": [
    "_50_results = {\"Trained setup on test set [time]\": _50_train_time,\n",
    "        'Overfitted setup [time]': _50_test_time,\n",
    "        'Trained setup on test set [kWh]': _50_train_kwh,\n",
    "        'Overfitted setup [kWh]': _50_test_kwh\n",
    "        }\n",
    "\n",
    "cpct_50 = pd.DataFrame(_50_results, columns = ['Trained setup on test set [time]', 'Overfitted setup [time]', 'Trained setup on test set [kWh]', 'Overfitted setup [kWh]'])\n",
    "cpct_50['Success rate [%]'] = (cpct_50['Trained setup on test set [kWh]']/cpct_50['Overfitted setup [kWh]'])*100\n",
    "\n",
    "_tmp = cpct_50.tail(1).copy()\n",
    "_tmp['name'] = 'cpct_50'\n",
    "cmprs = cmprs.append(_tmp)\n",
    "cpct_50.style.apply(highlight_max,subset=pd.IndexSlice[:, ['Success rate [%]']]).format({'Success rate [%]': \"{:.2f}\" , 'Trained setup on test set [kWh]' : \"{:.4E}\", 'Overfitted setup [kWh]' : \"{:.4E}\"})\n"
   ]
  },
  {
   "cell_type": "markdown",
   "metadata": {},
   "source": [
    "With 50% of original capacity we can still see good performance in Result log. Each simulation having around 75% of successfully charged vehicles. Difference between overfitted and trained data has become more significant but is still only in 1-2 percents."
   ]
  },
  {
   "cell_type": "markdown",
   "metadata": {},
   "source": [
    "#### Comparison with equally distributed setup"
   ]
  },
  {
   "cell_type": "code",
   "execution_count": null,
   "metadata": {
    "pycharm": {
     "is_executing": true
    }
   },
   "outputs": [],
   "source": [
    "\n",
    "print(\"Equal results log:\")\n",
    "_50_equal_sims = crossvalidate_equal(sets.copy(), cpct_50); \n",
    "\n",
    "#Get results\n",
    "_50_equal_kwh = []\n",
    "_50_equal_time = []\n",
    "\n",
    "for i in range(len(_50_equal_sims)):\n",
    "    _50_equal_kwh.append(_50_equal_sims[i].total_kWh)\n",
    "    _50_equal_time.append(_50_equal_sims[i].total_ch_time)\n"
   ]
  },
  {
   "cell_type": "code",
   "execution_count": null,
   "metadata": {
    "pycharm": {
     "is_executing": true
    }
   },
   "outputs": [],
   "source": [
    "equal_50_res = {'Equal setup on test set [time]': _50_equal_time,\n",
    "        'Trained setup on test set [time]': _50_train_time,\n",
    "        'Equal setup on test set [kWh]': _50_equal_kwh,\n",
    "        'Trained setup on test set [kWh]': _50_train_kwh,\n",
    "        }\n",
    "equal_50 = pd.DataFrame(equal_50_res, columns = ['Equal setup on test set [time]', 'Trained setup on test set [time]', 'Equal setup on test set [kWh]', 'Trained setup on test set [kWh]'])\n",
    "equal_50['Success rate [%]'] = (equal_50['Equal setup on test set [kWh]']/equal_50['Trained setup on test set [kWh]'])*100\n",
    "equal_50.style.format({'Success rate [%]': \"{:.2f}\", 'Equal setup on test set [kWh]' : \"{:.4E}\", 'Trained setup on test set [kWh]' : \"{:.4E}\"})\n"
   ]
  },
  {
   "cell_type": "code",
   "execution_count": null,
   "metadata": {
    "pycharm": {
     "is_executing": true
    }
   },
   "outputs": [],
   "source": [
    "pd.reset_option('display.float_format')\n",
    "print(equal_50.to_latex())"
   ]
  },
  {
   "cell_type": "markdown",
   "metadata": {},
   "source": [
    "### Comparison of different capacities"
   ]
  },
  {
   "cell_type": "markdown",
   "metadata": {},
   "source": [
    "Because all experiments were done on same dataset we can now compare their kWh output. We will compare row with ID-6 from all four DataFrames. In column 'Perc of max output' we count how big part of output from default setup can be achieved using only N% of its original capacity. This maximal output is considered maximal possible output that can be achieved."
   ]
  },
  {
   "cell_type": "code",
   "execution_count": null,
   "metadata": {
    "pycharm": {
     "is_executing": true
    }
   },
   "outputs": [],
   "source": [
    "_max = float(cmprs.head(1)['Trained setup on test set [kWh]'])\n",
    "cmprs['Perc of max output'] = (cmprs['Trained setup on test set [kWh]']/_max)*100\n",
    "cmprs"
   ]
  },
  {
   "cell_type": "markdown",
   "metadata": {},
   "source": [
    "From DataFrame above is clearly visible that there is not direct proportionality between number of chargers and number of successfully charged cars. Even with half of original capacity we can still achieve solid number of charged vehicles - 78%. "
   ]
  },
  {
   "cell_type": "code",
   "execution_count": null,
   "metadata": {
    "pycharm": {
     "is_executing": true
    }
   },
   "outputs": [],
   "source": []
  },
  {
   "cell_type": "markdown",
   "metadata": {},
   "source": [
    "# THE END - bellow is only code for debuging purposes"
   ]
  },
  {
   "cell_type": "markdown",
   "metadata": {},
   "source": [
    "## Multiple months simulation"
   ]
  },
  {
   "cell_type": "code",
   "execution_count": null,
   "metadata": {
    "pycharm": {
     "is_executing": true
    },
    "scrolled": false
   },
   "outputs": [],
   "source": [
    "\n",
    "default_cpct = [14, 1, 2, 3, 1, 1, 6, 1, 2 ,3, 3, 1, 1, 2, 2, 40, 24, 27] #capacity\n",
    "#default_cpct = [i * 2 for i in default_cpct]\n",
    "traffic = []\n",
    "files = sorted(glob.glob(\"input/*_traffic_export_*.csv\"))\n",
    "for file in files:\n",
    "    traffic.extend(load_traffic(file))\n",
    "\n",
    "traffic\n"
   ]
  },
  {
   "cell_type": "code",
   "execution_count": null,
   "metadata": {
    "pycharm": {
     "is_executing": true
    }
   },
   "outputs": [],
   "source": [
    "slots = create_slots(default_cpct)\n",
    "sim_all = Simulation(traffic, slots, \"Skoda\")\n",
    "sim_all.simulate()\n",
    "sim_all.total_kWh"
   ]
  },
  {
   "cell_type": "code",
   "execution_count": null,
   "metadata": {
    "pycharm": {
     "is_executing": true
    }
   },
   "outputs": [],
   "source": [
    "log = sim_all.log\n",
    "log['weekday'] = log.arrival.dt.dayofweek\n",
    "log"
   ]
  },
  {
   "cell_type": "code",
   "execution_count": null,
   "metadata": {
    "pycharm": {
     "is_executing": true
    }
   },
   "outputs": [],
   "source": [
    "log.loc[log['arrival'].dt.date == log['departure'].dt.date]"
   ]
  },
  {
   "cell_type": "code",
   "execution_count": null,
   "metadata": {
    "pycharm": {
     "is_executing": true
    }
   },
   "outputs": [],
   "source": [
    "slt = sim_all.slots[2].tmp_log\n",
    "slt"
   ]
  },
  {
   "cell_type": "markdown",
   "metadata": {},
   "source": [
    "## Debug "
   ]
  },
  {
   "cell_type": "code",
   "execution_count": null,
   "metadata": {
    "pycharm": {
     "is_executing": true
    }
   },
   "outputs": [],
   "source": [
    "dt.datetime.today().weekday()"
   ]
  },
  {
   "cell_type": "code",
   "execution_count": null,
   "metadata": {
    "pycharm": {
     "is_executing": true
    }
   },
   "outputs": [],
   "source": [
    "d = sim1.log\n",
    "\n",
    "d['day'] = d['arrival'].dt.date\n",
    "\n",
    "x = dt.date(2019, 9, 14)\n",
    "d.loc[d['day'] == x]\n"
   ]
  },
  {
   "cell_type": "code",
   "execution_count": null,
   "metadata": {
    "pycharm": {
     "is_executing": true
    }
   },
   "outputs": [],
   "source": [
    "traffic = load_traffic(\"input/complete_traffic_export.csv\")\n",
    "slots = create_slots(default_cpct)\n",
    "sim_all = Simulation(traffic, slots, \"Skoda\")\n",
    "sim_all.simulate()\n",
    "sim_all.total_kWh"
   ]
  },
  {
   "cell_type": "code",
   "execution_count": null,
   "metadata": {
    "pycharm": {
     "is_executing": true
    }
   },
   "outputs": [],
   "source": [
    "df = sim_all.log\n",
    "df"
   ]
  },
  {
   "cell_type": "code",
   "execution_count": null,
   "metadata": {
    "pycharm": {
     "is_executing": true
    }
   },
   "outputs": [],
   "source": [
    "df['duration'] = df['departure'] - df['arrival']\n",
    "df.groupby(['car_id']).sum()"
   ]
  },
  {
   "cell_type": "code",
   "execution_count": null,
   "metadata": {
    "pycharm": {
     "is_executing": true
    }
   },
   "outputs": [],
   "source": [
    "df['tmp'] = 1\n",
    "df['duration_sec'] = df.duration.dt.total_seconds()\n",
    "nw = df.groupby(\"car_id\").sum()\n",
    "nw = nw.reset_index()"
   ]
  },
  {
   "cell_type": "code",
   "execution_count": null,
   "metadata": {
    "pycharm": {
     "is_executing": true
    }
   },
   "outputs": [],
   "source": [
    "nw"
   ]
  },
  {
   "cell_type": "code",
   "execution_count": null,
   "metadata": {
    "pycharm": {
     "is_executing": true
    }
   },
   "outputs": [],
   "source": [
    "nw.loc[nw['car_id'] == 570936]"
   ]
  },
  {
   "cell_type": "code",
   "execution_count": null,
   "metadata": {
    "pycharm": {
     "is_executing": true
    }
   },
   "outputs": [],
   "source": [
    "nw['avg'] = nw['duration_sec']/nw['tmp']\n",
    "nw"
   ]
  },
  {
   "cell_type": "code",
   "execution_count": null,
   "metadata": {
    "pycharm": {
     "is_executing": true
    }
   },
   "outputs": [],
   "source": [
    "nw = nw.sort_values(by=['avg'], ascending=False)\n",
    "lst = nw['car_id'].to_list()\n",
    "lst[]"
   ]
  },
  {
   "cell_type": "code",
   "execution_count": null,
   "metadata": {
    "pycharm": {
     "is_executing": true
    }
   },
   "outputs": [],
   "source": [
    "nw"
   ]
  },
  {
   "cell_type": "code",
   "execution_count": null,
   "metadata": {
    "pycharm": {
     "is_executing": true
    }
   },
   "outputs": [],
   "source": [
    "#ref time = 2,5 minute, manage to speed it up to 0,5 minute\n",
    "# res = [9.0, 13.0, 16.0, 5.0, 9.0, 13.0, 6.0, 5.0, 13.0, 4.0, 1.0, 8.0, 12.0, 2.0, 2.0, 5.0, 7.0, 4.0]\n",
    "default_cpct = [14, 1, 2, 3, 1, 1, 6, 1, 2, 3, 3, 1, 1, 2, 2, 40, 24, 27]\n",
    "traffic = load_traffic(\"input/3_traffic_export_may.csv\")\n",
    "optml = find_optimal(None, traffic, default_cpct)"
   ]
  },
  {
   "cell_type": "code",
   "execution_count": null,
   "metadata": {
    "pycharm": {
     "is_executing": true
    }
   },
   "outputs": [],
   "source": [
    "print(optml)\n",
    "optml == [9.0, 13.0, 16.0, 5.0, 9.0, 13.0, 6.0, 5.0, 13.0, 4.0, 1.0, 8.0, 12.0, 2.0, 2.0, 5.0, 7.0, 4.0]"
   ]
  },
  {
   "cell_type": "code",
   "execution_count": null,
   "metadata": {
    "pycharm": {
     "is_executing": true
    }
   },
   "outputs": [],
   "source": [
    "times, ctrs, times_ch, ctrs_ch = visualize_prep(sim1, 7, True)\n"
   ]
  },
  {
   "cell_type": "code",
   "execution_count": null,
   "metadata": {
    "pycharm": {
     "is_executing": true
    }
   },
   "outputs": [],
   "source": [
    "new_times = []\n",
    "new_ctrs = []\n",
    "for i in range(len(times)):\n",
    "    var1 = times[i]\n",
    "    if (i+1) == len(times):\n",
    "        var2 = var1\n",
    "    else:\n",
    "        var2 = times[i+1]\n",
    "    new_times.append(var1)\n",
    "    new_times.append(var2)\n",
    "    new_ctrs.append(ctrs[i])\n",
    "    new_ctrs.append(ctrs[i])"
   ]
  },
  {
   "cell_type": "code",
   "execution_count": null,
   "metadata": {
    "pycharm": {
     "is_executing": true
    }
   },
   "outputs": [],
   "source": [
    "lmt = 5.0\n",
    "# total kWh = 2434.8108333333334\n",
    "# timne = datetime.timedelta(days=5, seconds=83607)\n",
    "t = timedelta(0, 0)\n",
    "for i in range(0, len(new_times) - 2, 2):\n",
    "    #if new_times[i] == new_times[i+1]:\n",
    "     #   print(str(new_times[i]) + \" ---- \" + str(new_times[i+1]))\n",
    "      #  print(len(new_times))\n",
    "    if new_ctrs[i] <= lmt and new_ctrs[i] > 0:\n",
    "        print(str(new_times[i]) + \" ---- \" + str(new_times[i+1]))\n",
    "        t += (new_times[i+1] - new_times[i])\n",
    "    "
   ]
  },
  {
   "cell_type": "code",
   "execution_count": null,
   "metadata": {
    "pycharm": {
     "is_executing": true
    }
   },
   "outputs": [],
   "source": [
    "t"
   ]
  },
  {
   "cell_type": "code",
   "execution_count": null,
   "metadata": {
    "pycharm": {
     "is_executing": true
    }
   },
   "outputs": [],
   "source": [
    "new_times"
   ]
  },
  {
   "cell_type": "code",
   "execution_count": null,
   "metadata": {
    "pycharm": {
     "is_executing": true
    }
   },
   "outputs": [],
   "source": [
    "new_ctrs"
   ]
  },
  {
   "cell_type": "code",
   "execution_count": null,
   "metadata": {
    "pycharm": {
     "is_executing": true
    }
   },
   "outputs": [],
   "source": [
    "sim1.slots[7].char_time"
   ]
  },
  {
   "cell_type": "code",
   "execution_count": null,
   "metadata": {
    "pycharm": {
     "is_executing": true
    }
   },
   "outputs": [],
   "source": [
    "np.array(year_setups)\n",
    "values = np.array([[11., 13., 13.,  5.,  9., 13.,  5.,  7., 11.,  5.,  1.,  7.,  9.,\n",
    "         2.,  3.,  7.,  8.,  5.],\n",
    "       [ 7., 15., 13.,  6., 11., 12.,  4.,  6., 12.,  5.,  1.,  8., 11.,\n",
    "         3.,  1.,  6.,  8.,  5.],\n",
    "       [ 9., 13., 16.,  5.,  9., 13.,  6.,  5., 13.,  4.,  1.,  8., 12.,\n",
    "         2.,  2.,  5.,  7.,  4.],\n",
    "       [ 6., 15., 17.,  4.,  9., 12.,  7.,  7., 13.,  4.,  1.,  6., 10.,\n",
    "         2.,  3.,  6.,  8.,  4.],\n",
    "       [ 9., 14., 14.,  5.,  9., 12.,  5.,  7., 12.,  5.,  1.,  7., 12.,\n",
    "         2.,  1.,  6.,  8.,  5.],\n",
    "       [ 9., 13., 14.,  6.,  9., 11.,  8.,  7., 11.,  5.,  2.,  8., 11.,\n",
    "         3.,  1.,  7.,  5.,  4.],\n",
    "       [11., 11., 14.,  5., 10., 12.,  7.,  6., 12.,  4.,  2.,  9., 11.,\n",
    "         2.,  1.,  7.,  5.,  5.]])"
   ]
  },
  {
   "cell_type": "code",
   "execution_count": null,
   "metadata": {
    "pycharm": {
     "is_executing": true
    }
   },
   "outputs": [],
   "source": [
    "year_setups[4]"
   ]
  },
  {
   "cell_type": "code",
   "execution_count": null,
   "metadata": {
    "pycharm": {
     "is_executing": true
    }
   },
   "outputs": [],
   "source": [
    "cross_kWh['res_march']"
   ]
  },
  {
   "cell_type": "code",
   "execution_count": null,
   "metadata": {
    "pycharm": {
     "is_executing": true
    }
   },
   "outputs": [],
   "source": [
    "cross_kWh.append(pd.DataFrame(['may', 1,1,1,2,3,4,5], columns=['Optimised for month','res_march', 'res_april', 'res_may', 'res_june', 'res_july', 'res_august', 'res_september']))"
   ]
  },
  {
   "cell_type": "code",
   "execution_count": null,
   "metadata": {
    "pycharm": {
     "is_executing": true
    }
   },
   "outputs": [],
   "source": [
    "df = pd.DataFrame(columns=list('AB'))\n",
    "df"
   ]
  },
  {
   "cell_type": "code",
   "execution_count": null,
   "metadata": {
    "pycharm": {
     "is_executing": true
    }
   },
   "outputs": [],
   "source": [
    "ctrs"
   ]
  },
  {
   "cell_type": "code",
   "execution_count": null,
   "metadata": {
    "pycharm": {
     "is_executing": true
    }
   },
   "outputs": [],
   "source": [
    "cp = [9.0, 13.0, 16.0, 5.0, 9.0, 13.0, 6.0, 5.0, 13.0, 4.0, 1.0, 8.0, 12.0, 2.0, 2.0, 5.0, 7.0, 4.0]\n",
    "slots5 = create_slots(cp)\n",
    "sim5 = Simulation(traffic, slots5, \"opt\")\n",
    "sim5.simulate()\n",
    "sum(cp)"
   ]
  },
  {
   "cell_type": "code",
   "execution_count": null,
   "metadata": {
    "pycharm": {
     "is_executing": true
    }
   },
   "outputs": [],
   "source": [
    "cpp = [8.0, 15.0, 12.0, 5.0, 10.0, 13.0, 7.0, 5.0, 14.0, 5.0, 2.0, 7.0, 13.0, 2.0, 2.0, 4.0, 6.0, 4.0]\n",
    "slots6 = create_slots(cpp)\n",
    "sim6 = Simulation(traffic, slots6, \"opt\")\n",
    "sim6.simulate()\n",
    "sum(cpp)"
   ]
  },
  {
   "cell_type": "code",
   "execution_count": null,
   "metadata": {
    "pycharm": {
     "is_executing": true
    }
   },
   "outputs": [],
   "source": [
    "new['car_id'].count()\n",
    "new.loc[new['satisfied'] == True]['car_id'].count()\n",
    "\n"
   ]
  },
  {
   "cell_type": "code",
   "execution_count": null,
   "metadata": {
    "pycharm": {
     "is_executing": true
    }
   },
   "outputs": [],
   "source": [
    "new['car_id'].count()"
   ]
  },
  {
   "cell_type": "code",
   "execution_count": null,
   "metadata": {
    "pycharm": {
     "is_executing": true
    }
   },
   "outputs": [],
   "source": [
    "equal_setup = [8, 8, 8, 8, 8, 8, 8, 8, 7, 7, 7, 7, 7, 7, 7, 7, 7, 7]\n",
    "len(equal_setup)"
   ]
  },
  {
   "cell_type": "code",
   "execution_count": null,
   "metadata": {
    "pycharm": {
     "is_executing": true
    }
   },
   "outputs": [],
   "source": [
    "len(sim3.slots)"
   ]
  },
  {
   "cell_type": "code",
   "execution_count": null,
   "metadata": {
    "pycharm": {
     "is_executing": true
    },
    "scrolled": true
   },
   "outputs": [],
   "source": [
    "import datetime\n",
    "import random\n",
    "import matplotlib.pyplot as plt\n",
    "\n",
    "# make up some data\n",
    "x = [datetime.time(1,1,1) + datetime.timedelta(hours=i) for i in range(12)]\n",
    "y = [i+random.gauss(0,1) for i,_ in enumerate(x)]\n",
    "\n",
    "# plot\n",
    "import matplotlib.dates as mdates\n",
    "fig, ax = plt.subplots()\n",
    "ax.xaxis_date()\n",
    "myFmt = mdates.DateFormatter('%H:%M')\n",
    "ax.xaxis.set_major_formatter(myFmt)\n",
    "plt.plot(x,y)\n",
    "# beautify the x-labels\n",
    "plt.gcf().autofmt_xdate()\n",
    "\n",
    "\n",
    "plt.show()"
   ]
  },
  {
   "cell_type": "code",
   "execution_count": null,
   "metadata": {
    "pycharm": {
     "is_executing": true
    }
   },
   "outputs": [],
   "source": [
    "times"
   ]
  },
  {
   "cell_type": "code",
   "execution_count": null,
   "metadata": {
    "pycharm": {
     "is_executing": true
    }
   },
   "outputs": [],
   "source": [
    "import datetime as dt\n",
    "mytime = dt.datetime.strptime('0130','%H%M').time()\n",
    "mydatetime = dt.datetime.combine(dt.date.today(), mytime)"
   ]
  },
  {
   "cell_type": "code",
   "execution_count": null,
   "metadata": {
    "pycharm": {
     "is_executing": true
    }
   },
   "outputs": [],
   "source": [
    "mytime"
   ]
  },
  {
   "cell_type": "code",
   "execution_count": null,
   "metadata": {
    "pycharm": {
     "is_executing": true
    }
   },
   "outputs": [],
   "source": [
    "dtf = sim2.slots[1].log"
   ]
  },
  {
   "cell_type": "code",
   "execution_count": null,
   "metadata": {
    "pycharm": {
     "is_executing": true
    }
   },
   "outputs": [],
   "source": [
    "dtf['same'] = dtf['arrival'].dt.date == dtf['departure'].dt.date\n",
    "dtf = dtf.loc[dtf['arrival'].dt.date == dtf['departure'].dt.date]"
   ]
  },
  {
   "cell_type": "code",
   "execution_count": null,
   "metadata": {
    "pycharm": {
     "is_executing": true
    }
   },
   "outputs": [],
   "source": [
    "dtf.groupby('same').count()"
   ]
  },
  {
   "cell_type": "code",
   "execution_count": null,
   "metadata": {
    "pycharm": {
     "is_executing": true
    }
   },
   "outputs": [],
   "source": [
    "import numpy as np\n",
    "from pylab import *\n",
    "x=linspace(0,1,100)    \n",
    "y=zeros(100)\n",
    "y[x<0.5] = x[x<0.5]\n",
    "y[x>=0.5] = 1 + x[x>=0.5]\n",
    "\n",
    "pos = np.where(np.abs(np.diff(y)) >= 0.5)[0]\n",
    "\n",
    "x[pos] = np.nan\n",
    "y[pos] = np.nan\n",
    "\n",
    "plot(x, y, '-')"
   ]
  },
  {
   "cell_type": "code",
   "execution_count": null,
   "metadata": {
    "pycharm": {
     "is_executing": true
    }
   },
   "outputs": [],
   "source": [
    "# library\n",
    "import matplotlib.pyplot as plt\n",
    " \n",
    "# Make fake dataset\n",
    "height = [3, 12, 5, 18, 45]\n",
    "bars = ('A', 'B', 'C', 'D', 'E')\n",
    "# Choose the width of each bar and their positions\n",
    "width = [0.1,0.2,3,1.5,0.3]\n",
    "y_pos = [0,0.3,2,4.5,5.5]\n",
    " \n",
    "# Make the plot\n",
    "plt.bar(y_pos, height, width=width)\n",
    "plt.xticks(y_pos, bars)\n",
    "plt.show()\n"
   ]
  },
  {
   "cell_type": "code",
   "execution_count": null,
   "metadata": {
    "pycharm": {
     "is_executing": true
    }
   },
   "outputs": [],
   "source": []
  }
 ],
 "metadata": {
  "kernelspec": {
   "display_name": "Python 3",
   "language": "python",
   "name": "python3"
  },
  "language_info": {
   "codemirror_mode": {
    "name": "ipython",
    "version": 3
   },
   "file_extension": ".py",
   "mimetype": "text/x-python",
   "name": "python",
   "nbconvert_exporter": "python",
   "pygments_lexer": "ipython3",
   "version": "3.7.3"
  },
  "pycharm": {
   "stem_cell": {
    "cell_type": "raw",
    "metadata": {
     "collapsed": false
    },
    "source": []
   }
  }
 },
 "nbformat": 4,
 "nbformat_minor": 1
}
